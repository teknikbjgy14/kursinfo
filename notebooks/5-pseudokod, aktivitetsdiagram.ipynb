{
 "cells": [
  {
   "cell_type": "markdown",
   "metadata": {},
   "source": [
    "Pseudokod, Aktivitetsdiagram och strängar\n",
    "===\n",
    "\n",
    "Avsnitt i boken:\n",
    "Kap 6 + ppt i FB-gruppen\n",
    "\n",
    "\n",
    "\n",
    "\n",
    "Under denna lektion skall vi titta närmare på:"
   ]
  },
  {
   "cell_type": "markdown",
   "metadata": {},
   "source": [
    "Innehåll\n",
    "---\n",
    "\n",
    "- [Pseudokod](#pseudo)\n",
    "- [Aktivitetsdiagram](#diagram)\n",
    "- [Mer om strängar](#strings)\n",
    "- [Importera moduler](#moduler)\n",
    "- [Nästa pass](#nasta)"
   ]
  },
  {
   "cell_type": "markdown",
   "metadata": {
    "collapsed": false
   },
   "source": [
    "Uppgift\n",
    "---\n",
    "\n",
    "Ett som beräknar rabatt. Om man handlar för minst 500 kr får man 10 % rabatt. Om man hadlar för minst 900 kr får man 20 %.\n",
    "\n",
    "Till programmet:\n",
    "    - Skriv pseudokod i punktform.\n",
    "    - Beskriv programmet med hjälp av ett aktivitetsdiagram (strukturgraf) på papper.\n",
    "    - Implementera programmet (skriv koden).\n",
    "    \n",
    "Extra uppgift\n",
    "---\n",
    "\n",
    "Den babyloniska metoden för att hitta kvadratrötter till ett tal.\n",
    "\n",
    "Pseudo-kod:\n",
    "\n",
    "- Läs in ett tal S för vilket roten skall hittas\n",
    "- Gissa ett tal x_0\n",
    "- Beräkna nästa steg x_(n+1) = (x_n + S/x_n)/2\n",
    "- Om tillräcklig noggrannhet inte är uppnådd upprepa föregående steg\n",
    "- Skriv ut talet\n",
    "\n",
    "Till programmet:\n",
    "    - Skriv pseudokod i punktform.\n",
    "    - Beskriv programmet med hjälp av ett aktivitetsdiagram (strukturgraf) på papper.\n",
    "    - Implementera programmet (skriv koden)."
   ]
  },
  {
   "cell_type": "markdown",
   "metadata": {},
   "source": [
    "<a name='pseudo'></a>Pseudokod och Aktivitetsdiagram (strukturgrafer)\n",
    "===\n",
    "\n",
    "\n",
    "\n",
    "\n",
    "### Några begrepp:\n",
    "\n",
    "**Algoritm:**\n",
    "En algoritm är en exakt, entydig beskrivning av hur något ska utföras. Ett dataprogram skrivs efter en algoritm. Algoritmer kan representeras på ett antal olika sätt:\n",
    "\n",
    "- Käll-kod\n",
    "- Pseudo-kod\n",
    "- Aktivitetsdiagram\n",
    "\n",
    "\n",
    "**Pseudokod:**\n",
    "Man skriver algoritmen till ett dataprogram på sitt eget språk. Man kan koncentrera sig på hur programmet ska fungera. Man slipper (till att börja med) att tänka på syntax med mera.\n",
    "\n",
    "**Strukturgraf:**\n",
    "Ett sätt att grafiskt visa hur en algoritm eller ett dataprogram fungerar. (Aktivitetsdiagram)\n",
    "\n",
    "### De tre strukturprimitiverna:\n",
    "\n",
    "Ett strukturerat dataprogram byggs upp av de tre strukturprimitiverna:\n",
    "\n",
    "- **Sekvens** = följd\n",
    "- **Selektion** = val mellan alternativ \n",
    "- **Iteration** = upprepning, loop"
   ]
  },
  {
   "cell_type": "markdown",
   "metadata": {},
   "source": [
    "### Sekvenser\n",
    "![Sekvenser](images/sekvens.png)\n",
    "\n",
    "### Selektioner\n",
    "![Selektioner](images/selektion.png)\n",
    "\n",
    "### Iterationer\n",
    "![Iterationer](images/iteration.png)\n",
    "\n",
    "### Iterationer 2\n",
    "![Iterationer](images/iteration2.png)\n",
    "\n",
    "### Selektion och Iteration\n",
    "![Selektioner och Iterationer](images/iterationselektion.png)"
   ]
  },
  {
   "cell_type": "markdown",
   "metadata": {},
   "source": [
    "<a name='strings'></a>Mer om strängar\n",
    "===\n",
    "\n",
    "Se förra passet"
   ]
  },
  {
   "cell_type": "markdown",
   "metadata": {},
   "source": [
    "<a name='moduler'></a>Importera moduler\n",
    "---\n",
    "\n",
    "Inbyggt i python finns en stor mängd färdigskrivna funktioner och konstanter. Dessa lagras i block som kallas moduler. Modulerna importeras genom att skriva import vanliga moduler är: math, random, time, datetime. Ex"
   ]
  },
  {
   "cell_type": "code",
   "execution_count": 1,
   "metadata": {
    "collapsed": false
   },
   "outputs": [
    {
     "name": "stdout",
     "output_type": "stream",
     "text": [
      "Help on built-in function sin in module math:\n",
      "\n",
      "sin(...)\n",
      "    sin(x)\n",
      "    \n",
      "    Return the sine of x (measured in radians).\n",
      "\n",
      "3.141592653589793\n"
     ]
    }
   ],
   "source": [
    "# importerar mathbiblioteket\n",
    "import math\n",
    "\n",
    "# importerar alla funktioner i math\n",
    "from math import *\n",
    "\n",
    "# kontrollera vad som finns i modulen\n",
    "dir(math)\n",
    "\n",
    "# hjälp\n",
    "help(math.sin)\n",
    "\n",
    "print(math.pi)"
   ]
  },
  {
   "cell_type": "markdown",
   "metadata": {},
   "source": [
    "<a name='nasta'></a>Nästa pass\n",
    "===\n",
    "\n",
    "Inlämningsuppgiften"
   ]
  },
  {
   "cell_type": "code",
   "execution_count": 1,
   "metadata": {
    "collapsed": false
   },
   "outputs": [],
   "source": [
    "import math"
   ]
  },
  {
   "cell_type": "code",
   "execution_count": 2,
   "metadata": {
    "collapsed": false
   },
   "outputs": [
    {
     "data": {
      "text/plain": [
       "['__doc__',\n",
       " '__loader__',\n",
       " '__name__',\n",
       " '__package__',\n",
       " '__spec__',\n",
       " 'acos',\n",
       " 'acosh',\n",
       " 'asin',\n",
       " 'asinh',\n",
       " 'atan',\n",
       " 'atan2',\n",
       " 'atanh',\n",
       " 'ceil',\n",
       " 'copysign',\n",
       " 'cos',\n",
       " 'cosh',\n",
       " 'degrees',\n",
       " 'e',\n",
       " 'erf',\n",
       " 'erfc',\n",
       " 'exp',\n",
       " 'expm1',\n",
       " 'fabs',\n",
       " 'factorial',\n",
       " 'floor',\n",
       " 'fmod',\n",
       " 'frexp',\n",
       " 'fsum',\n",
       " 'gamma',\n",
       " 'hypot',\n",
       " 'isfinite',\n",
       " 'isinf',\n",
       " 'isnan',\n",
       " 'ldexp',\n",
       " 'lgamma',\n",
       " 'log',\n",
       " 'log10',\n",
       " 'log1p',\n",
       " 'log2',\n",
       " 'modf',\n",
       " 'pi',\n",
       " 'pow',\n",
       " 'radians',\n",
       " 'sin',\n",
       " 'sinh',\n",
       " 'sqrt',\n",
       " 'tan',\n",
       " 'tanh',\n",
       " 'trunc']"
      ]
     },
     "execution_count": 2,
     "metadata": {},
     "output_type": "execute_result"
    }
   ],
   "source": [
    "dir(math)"
   ]
  },
  {
   "cell_type": "code",
   "execution_count": 3,
   "metadata": {
    "collapsed": false
   },
   "outputs": [
    {
     "name": "stdout",
     "output_type": "stream",
     "text": [
      "Help on built-in function pow in module math:\n",
      "\n",
      "pow(...)\n",
      "    pow(x, y)\n",
      "    \n",
      "    Return x**y (x to the power of y).\n",
      "\n"
     ]
    }
   ],
   "source": [
    "help(math.pow)"
   ]
  },
  {
   "cell_type": "code",
   "execution_count": 4,
   "metadata": {
    "collapsed": false
   },
   "outputs": [
    {
     "name": "stdout",
     "output_type": "stream",
     "text": [
      "32.0\n"
     ]
    }
   ],
   "source": [
    "print(math.pow(2,5))"
   ]
  },
  {
   "cell_type": "code",
   "execution_count": 5,
   "metadata": {
    "collapsed": false
   },
   "outputs": [
    {
     "name": "stdout",
     "output_type": "stream",
     "text": [
      "Help on built-in function ceil in module math:\n",
      "\n",
      "ceil(...)\n",
      "    ceil(x)\n",
      "    \n",
      "    Return the ceiling of x as an int.\n",
      "    This is the smallest integral value >= x.\n",
      "\n"
     ]
    }
   ],
   "source": [
    "help(math.ceil)"
   ]
  },
  {
   "cell_type": "code",
   "execution_count": 6,
   "metadata": {
    "collapsed": false
   },
   "outputs": [
    {
     "data": {
      "text/plain": [
       "4"
      ]
     },
     "execution_count": 6,
     "metadata": {},
     "output_type": "execute_result"
    }
   ],
   "source": [
    "math.ceil(3.4)"
   ]
  },
  {
   "cell_type": "code",
   "execution_count": 7,
   "metadata": {
    "collapsed": false
   },
   "outputs": [
    {
     "data": {
      "text/plain": [
       "3"
      ]
     },
     "execution_count": 7,
     "metadata": {},
     "output_type": "execute_result"
    }
   ],
   "source": [
    "math.floor(3.4)"
   ]
  },
  {
   "cell_type": "code",
   "execution_count": 9,
   "metadata": {
    "collapsed": false
   },
   "outputs": [
    {
     "data": {
      "text/plain": [
       "3.141592653589793"
      ]
     },
     "execution_count": 9,
     "metadata": {},
     "output_type": "execute_result"
    }
   ],
   "source": [
    "math.pi"
   ]
  },
  {
   "cell_type": "code",
   "execution_count": 11,
   "metadata": {
    "collapsed": false
   },
   "outputs": [
    {
     "data": {
      "text/plain": [
       "1.0"
      ]
     },
     "execution_count": 11,
     "metadata": {},
     "output_type": "execute_result"
    }
   ],
   "source": [
    "math.sin(math.pi/2)"
   ]
  },
  {
   "cell_type": "code",
   "execution_count": 12,
   "metadata": {
    "collapsed": false
   },
   "outputs": [
    {
     "name": "stdout",
     "output_type": "stream",
     "text": [
      "Help on built-in function radians in module math:\n",
      "\n",
      "radians(...)\n",
      "    radians(x)\n",
      "    \n",
      "    Convert angle x from degrees to radians.\n",
      "\n"
     ]
    }
   ],
   "source": [
    "help(math.radians)"
   ]
  },
  {
   "cell_type": "code",
   "execution_count": 13,
   "metadata": {
    "collapsed": false
   },
   "outputs": [
    {
     "data": {
      "text/plain": [
       "1.5707963267948966"
      ]
     },
     "execution_count": 13,
     "metadata": {},
     "output_type": "execute_result"
    }
   ],
   "source": [
    "math.radians(90)"
   ]
  },
  {
   "cell_type": "code",
   "execution_count": 14,
   "metadata": {
    "collapsed": false
   },
   "outputs": [
    {
     "data": {
      "text/plain": [
       "1.5707963267948966"
      ]
     },
     "execution_count": 14,
     "metadata": {},
     "output_type": "execute_result"
    }
   ],
   "source": [
    "math.pi/2"
   ]
  },
  {
   "cell_type": "code",
   "execution_count": 15,
   "metadata": {
    "collapsed": false
   },
   "outputs": [],
   "source": [
    "import random"
   ]
  },
  {
   "cell_type": "code",
   "execution_count": 16,
   "metadata": {
    "collapsed": false
   },
   "outputs": [
    {
     "data": {
      "text/plain": [
       "['BPF',\n",
       " 'LOG4',\n",
       " 'NV_MAGICCONST',\n",
       " 'RECIP_BPF',\n",
       " 'Random',\n",
       " 'SG_MAGICCONST',\n",
       " 'SystemRandom',\n",
       " 'TWOPI',\n",
       " '_BuiltinMethodType',\n",
       " '_MethodType',\n",
       " '_Sequence',\n",
       " '_Set',\n",
       " '__all__',\n",
       " '__builtins__',\n",
       " '__cached__',\n",
       " '__doc__',\n",
       " '__file__',\n",
       " '__loader__',\n",
       " '__name__',\n",
       " '__package__',\n",
       " '__spec__',\n",
       " '_acos',\n",
       " '_ceil',\n",
       " '_cos',\n",
       " '_e',\n",
       " '_exp',\n",
       " '_inst',\n",
       " '_log',\n",
       " '_pi',\n",
       " '_random',\n",
       " '_sha512',\n",
       " '_sin',\n",
       " '_sqrt',\n",
       " '_test',\n",
       " '_test_generator',\n",
       " '_urandom',\n",
       " '_warn',\n",
       " 'betavariate',\n",
       " 'choice',\n",
       " 'expovariate',\n",
       " 'gammavariate',\n",
       " 'gauss',\n",
       " 'getrandbits',\n",
       " 'getstate',\n",
       " 'lognormvariate',\n",
       " 'normalvariate',\n",
       " 'paretovariate',\n",
       " 'randint',\n",
       " 'random',\n",
       " 'randrange',\n",
       " 'sample',\n",
       " 'seed',\n",
       " 'setstate',\n",
       " 'shuffle',\n",
       " 'triangular',\n",
       " 'uniform',\n",
       " 'vonmisesvariate',\n",
       " 'weibullvariate']"
      ]
     },
     "execution_count": 16,
     "metadata": {},
     "output_type": "execute_result"
    }
   ],
   "source": [
    "dir(random)"
   ]
  },
  {
   "cell_type": "code",
   "execution_count": 17,
   "metadata": {
    "collapsed": false
   },
   "outputs": [
    {
     "name": "stdout",
     "output_type": "stream",
     "text": [
      "Help on method randint in module random:\n",
      "\n",
      "randint(a, b) method of random.Random instance\n",
      "    Return random integer in range [a, b], including both end points.\n",
      "\n"
     ]
    }
   ],
   "source": [
    "help(random.randint)"
   ]
  },
  {
   "cell_type": "code",
   "execution_count": 21,
   "metadata": {
    "collapsed": false
   },
   "outputs": [
    {
     "name": "stdout",
     "output_type": "stream",
     "text": [
      "8, 12, 9, 31, 26, 4, 30, 20, 5, 80, "
     ]
    }
   ],
   "source": [
    "for i in range(1,11):\n",
    "    print(random.randint(1,10 * i), end=\", \")"
   ]
  },
  {
   "cell_type": "code",
   "execution_count": 24,
   "metadata": {
    "collapsed": false
   },
   "outputs": [
    {
     "name": "stdout",
     "output_type": "stream",
     "text": [
      "DONE! 12356159\n"
     ]
    }
   ],
   "source": [
    "n = 0\n",
    "die = random.randint(1,10000000)\n",
    "\n",
    "while(die != 7):\n",
    "    die = random.randint(1,10000000)\n",
    "    n += 1\n",
    "    \n",
    "print(\"DONE!\", n)"
   ]
  },
  {
   "cell_type": "code",
   "execution_count": 26,
   "metadata": {
    "collapsed": false
   },
   "outputs": [
    {
     "name": "stdout",
     "output_type": "stream",
     "text": [
      "Help on built-in function random:\n",
      "\n",
      "random(...) method of random.Random instance\n",
      "    random() -> x in the interval [0, 1).\n",
      "\n"
     ]
    }
   ],
   "source": [
    "help(random.random)"
   ]
  },
  {
   "cell_type": "code",
   "execution_count": 74,
   "metadata": {
    "collapsed": false
   },
   "outputs": [
    {
     "data": {
      "text/plain": [
       "3.9016004771703705"
      ]
     },
     "execution_count": 74,
     "metadata": {},
     "output_type": "execute_result"
    }
   ],
   "source": [
    "random.random()*10"
   ]
  },
  {
   "cell_type": "code",
   "execution_count": 75,
   "metadata": {
    "collapsed": false
   },
   "outputs": [],
   "source": [
    "import timeit"
   ]
  },
  {
   "cell_type": "code",
   "execution_count": 76,
   "metadata": {
    "collapsed": false
   },
   "outputs": [
    {
     "data": {
      "text/plain": [
       "['Timer',\n",
       " '__all__',\n",
       " '__builtins__',\n",
       " '__cached__',\n",
       " '__doc__',\n",
       " '__file__',\n",
       " '__loader__',\n",
       " '__name__',\n",
       " '__package__',\n",
       " '__spec__',\n",
       " '_template_func',\n",
       " 'default_number',\n",
       " 'default_repeat',\n",
       " 'default_timer',\n",
       " 'dummy_src_name',\n",
       " 'gc',\n",
       " 'itertools',\n",
       " 'main',\n",
       " 'reindent',\n",
       " 'repeat',\n",
       " 'sys',\n",
       " 'template',\n",
       " 'time',\n",
       " 'timeit']"
      ]
     },
     "execution_count": 76,
     "metadata": {},
     "output_type": "execute_result"
    }
   ],
   "source": [
    "dir(timeit)"
   ]
  },
  {
   "cell_type": "code",
   "execution_count": 77,
   "metadata": {
    "collapsed": false
   },
   "outputs": [
    {
     "ename": "TypeError",
     "evalue": "unsupported operand type(s) for %: '_Helper' and 'module'",
     "output_type": "error",
     "traceback": [
      "\u001b[1;31m---------------------------------------------------------------------------\u001b[0m\n\u001b[1;31mTypeError\u001b[0m                                 Traceback (most recent call last)",
      "\u001b[1;32m<ipython-input-77-be51d98c6d9c>\u001b[0m in \u001b[0;36m<module>\u001b[1;34m()\u001b[0m\n\u001b[1;32m----> 1\u001b[1;33m \u001b[0mhelp\u001b[0m \u001b[1;33m%\u001b[0m\u001b[0mtimeit\u001b[0m\u001b[1;33m\u001b[0m\u001b[0m\n\u001b[0m",
      "\u001b[1;31mTypeError\u001b[0m: unsupported operand type(s) for %: '_Helper' and 'module'"
     ]
    }
   ],
   "source": [
    "help %timeit"
   ]
  },
  {
   "cell_type": "code",
   "execution_count": 78,
   "metadata": {
    "collapsed": false
   },
   "outputs": [],
   "source": [
    "%timeit"
   ]
  },
  {
   "cell_type": "code",
   "execution_count": null,
   "metadata": {
    "collapsed": false
   },
   "outputs": [],
   "source": []
  }
 ],
 "metadata": {
  "kernelspec": {
   "display_name": "Python 3",
   "language": "python",
   "name": "python3"
  },
  "language_info": {
   "codemirror_mode": {
    "name": "ipython",
    "version": 3
   },
   "file_extension": ".py",
   "mimetype": "text/x-python",
   "name": "python",
   "nbconvert_exporter": "python",
   "pygments_lexer": "ipython3",
   "version": "3.4.2"
  }
 },
 "nbformat": 4,
 "nbformat_minor": 0
}
