{
 "cells": [
  {
   "cell_type": "markdown",
   "metadata": {},
   "source": [
    "Slumptal\n",
    "===\n",
    "\n",
    "Dagens pass\n",
    "---\n",
    "\n",
    "**Innehåll:**\n",
    "\n",
    "- Kapitel 11 s. 125 - 131\n",
    "- Uppgifter:\n",
    "    - Instuderingsuppgift 1 - 3\n",
    "    - Skicka in uppgifterna: \n",
    "        - 11.1, 3, 7\n",
    "        - (11.4 eller 5)\n",
    "\n",
    "\n",
    "Slumptal\n",
    "---\n",
    "\n",
    "Bra att veta om slumptal:\n",
    "\n",
    "- En dator kan inte generera **äkta slumptal** utan genrerar **pseudoslumptal**. Om man genererar ett stort antal kan man se mönstret i funktionen som används för att generera talen. Funktionen har en period\n",
    "- En dator använder ett frö (seed) som spottar ut ett tal. Används samma frö får man samma tal.\n",
    "- Slumpmässigheten är dock tillräckligt god för att skapa exempelvis spel, startlistor eller simuleringar. \n",
    "- Simuleringar är ett program som försöker efterlikna en verklig situation.\n",
    "\n",
    "\n",
    "I python kan modulen random importeras får att ge tillgång till slumptal. Slumptalen kan antingen vara int eller float.\n",
    "\n",
    "- Funktionen nedan genererar heltal i intervallet [a,b]:\n",
    "\n",
    "        randint(a,b)\n",
    "    \n",
    "- Funktionen nedan generear tal i intervallet [0.0, 1.0):\n",
    "    \n",
    "        random()\n",
    "        \n",
    "- Funktionen nedan väljer ut ett element från listan choices:\n",
    "\n",
    "        choice(choices)\n",
    "\n",
    "- Funktionen nedan blandar om en lista:\n",
    "\n",
    "        shuffle(lista)\n",
    "        \n",
    "#olika sätt att importera funktioner i python\n",
    "import random\n",
    "\n",
    "random.randint(0,5)\n",
    "Out[2]:\n",
    "0\n",
    "In [1]:\n",
    "import random as ran\n",
    "\n",
    "ran.randint(0,5)\n",
    "Out[1]:\n",
    "4\n",
    "In [3]:\n",
    "from random import * #eller den funktion du vill använda, * står för wildcard och omfattar allt\n",
    "#from random import randint\n",
    "\n",
    "randint(0,5)\n",
    "Out[3]:\n",
    "5\n",
    "In [5]:\n",
    "help(random)\n"
   ]
  },
  {
   "cell_type": "code",
   "execution_count": 5,
   "metadata": {
    "collapsed": false
   },
   "outputs": [
    {
     "name": "stdout",
     "output_type": "stream",
     "text": [
      "\n"
     ]
    }
   ],
   "source": [
    "import random\n",
    "\n",
    "#dir(random)\n",
    "#help(random)"
   ]
  },
  {
   "cell_type": "code",
   "execution_count": 67,
   "metadata": {
    "collapsed": false
   },
   "outputs": [
    {
     "name": "stdout",
     "output_type": "stream",
     "text": [
      "5\n",
      "3.1952761776112224\n",
      "[0, 1, 2, 3, 4, 5, 6, 7, 8, 9] \n",
      " [6, 7, 5, 0, 2, 1, 3, 4, 8, 9]\n",
      "['a', 'b', 'c', 'd', 'e', 'f', 'g', 'h', 'i', 'j']\n",
      "h\n"
     ]
    }
   ],
   "source": [
    "from random import *\n",
    "from copy import copy\n",
    "\n",
    "#Ex1 tärning\n",
    "print(randint(1,6))\n",
    "\n",
    "\n",
    "\n",
    "#Ex2 flyttal från [0,10)\n",
    "print(10*random())\n",
    "\n",
    "\n",
    "\n",
    "#Ex3 blanda lista\n",
    "lista1 = [n for n in range(0,10)]\n",
    "lista2 = copy(lista1)\n",
    "shuffle(lista2)\n",
    "print(lista1,'\\n',lista2)\n",
    "\n",
    "\n",
    "\n",
    "#Ex4 slumpa från lista\n",
    "lista3 = [chr(n) for n in range(97,107)]\n",
    "print(lista3)\n",
    "print(choice(lista3))"
   ]
  },
  {
   "cell_type": "code",
   "execution_count": 79,
   "metadata": {
    "collapsed": false
   },
   "outputs": [
    {
     "name": "stdout",
     "output_type": "stream",
     "text": [
      "Frekvensen av 1 = 0.160\n",
      "Frekvensen av 2 = 0.169\n",
      "Frekvensen av 3 = 0.165\n",
      "Frekvensen av 4 = 0.171\n",
      "Frekvensen av 5 = 0.167\n",
      "Frekvensen av 6 = 0.167\n"
     ]
    }
   ],
   "source": [
    "#Ex simulering av tärningskast\n",
    "\n",
    "from random import *\n",
    "from math import *\n",
    "\n",
    "resultat = [0,0,0,0,0,0,0]\n",
    "\n",
    "for i in range(10000):\n",
    "    n = randint(1,6)\n",
    "    #Alternativ sätt att skapa slumptal på heltalsform.\n",
    "    #n = ceil(6*random())\n",
    "    resultat[n] += 1\n",
    "\n",
    "for i in range(1,7):\n",
    "    print(\"Frekvensen av {:d} = {:4.3f}\".format(i, resultat[i]/10000))\n",
    "    \n"
   ]
  }
 ],
 "metadata": {
  "kernelspec": {
   "display_name": "Python 3",
   "language": "python",
   "name": "python3"
  },
  "language_info": {
   "codemirror_mode": {
    "name": "ipython",
    "version": 3
   },
   "file_extension": ".py",
   "mimetype": "text/x-python",
   "name": "python",
   "nbconvert_exporter": "python",
   "pygments_lexer": "ipython3",
   "version": "3.4.2"
  }
 },
 "nbformat": 4,
 "nbformat_minor": 0
}
