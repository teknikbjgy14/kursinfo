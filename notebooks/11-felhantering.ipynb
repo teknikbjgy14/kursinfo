{
 "cells": [
  {
   "cell_type": "markdown",
   "metadata": {},
   "source": [
    "Felhantering\n",
    "===\n",
    "\n",
    "Innehåll:\n",
    "\n",
    "- Tidigare\n",
    "- Felhantering kap 12\n",
    "- Arbetsuppgift att skicka in:\n",
    "    - Skriv en funktion  utan parametrar som frågar användaren efter namn och ålder. Kontrollera mha exceptions att dessa har korrekta värden och är av rätt typ. Returnera sedan dessa i slute av funktionen.\n",
    "    - Gissa talet. Gör ett program där användaren får gissa ett heltal mellan 1 och 10 som kontrolleras mot ett av datorn slumpat tal. Det av användaren inmatade talet skall kontrolleras mha exceptions.\n",
    "\n",
    "\n",
    "\n",
    "Exceptions\n",
    "---\n",
    "\n",
    "När ett python program körs kan följande fel inträffa:\n",
    "\n",
    "- Logiska fel\n",
    "    - Programmet fungerar men inte som det är tänkt.\n",
    "- Syntax-fel\n",
    "    - Fel på syntaxen i källkoden eller parsing error.\n",
    "- Undantag (exceptions) eller körtidsfel\n",
    "    - Koden är korrekt skriven men när den körs ger den upphov till ett fel. I python finns det ett flertal olika typer av fel och det går även att skriva egna feltyper (skall helst undvikas).\n",
    "    \n",
    "\n",
    "För att fånga upp undantagen (exceptions) finns det i python finns det ett kodblock som heter try-except:\n",
    "\n",
    "    try:\n",
    "        pass\n",
    "    except(Error):\n",
    "        pass\n",
    "        \n",
    "**OBS!** Undvik att använda except utan att ange ett exception. Dett fångar upp alla fel, även fel som vi inte ville fånga upp.\n",
    "\n",
    "- ZeroDivisionError\n",
    "- TypeError\n",
    "- NameError\n",
    "- ValueError\n",
    "- NotImplementedError\n",
    "\n",
    "\n",
    "Vi kan även \"resa\" egan fel med kommandot raise. En fullständig try-except sats visas nedan.\n",
    "\n",
    "    try:\n",
    "        if(villkor):\n",
    "            raise Error\n",
    "    except(Error):\n",
    "        pass\n",
    "    else:\n",
    "        pass\n",
    "    finally:\n",
    "        pass"
   ]
  },
  {
   "cell_type": "code",
   "execution_count": null,
   "metadata": {
    "collapsed": false
   },
   "outputs": [],
   "source": [
    "import math\n",
    "\n",
    "#4/0\n",
    "#4 * 'Hej'\n",
    "#a + b\n",
    "#math.sqrt(-4)"
   ]
  },
  {
   "cell_type": "code",
   "execution_count": 3,
   "metadata": {
    "collapsed": false
   },
   "outputs": [
    {
     "name": "stdout",
     "output_type": "stream",
     "text": [
      "Något blev fel...\n",
      "Divition med noll\n"
     ]
    }
   ],
   "source": [
    "#Alt1\n",
    "try:\n",
    "    4/0\n",
    "    4 + \"Hej\"\n",
    "    a + b\n",
    "except(ZeroDivisionError,TypeError):\n",
    "    print(\"Något blev fel...\")\n",
    "\n",
    "#Alt2:\n",
    "try:\n",
    "    4/0\n",
    "    4 + \"Hej\"\n",
    "    a + b\n",
    "except(ZeroDivisionError):\n",
    "    print(\"Divition med noll\")\n",
    "except(TypeError):\n",
    "    print(\"Olika typer\")"
   ]
  },
  {
   "cell_type": "code",
   "execution_count": 4,
   "metadata": {
    "collapsed": false
   },
   "outputs": [
    {
     "name": "stdout",
     "output_type": "stream",
     "text": [
      "Mata in ett positivt heltal: -4\n",
      "\n",
      "Inte ett positivt heltal, försök igen!\n",
      "Du har försökt 1 gånger\n",
      "Mata in ett positivt heltal: 3\n",
      "Du skrev in det positiva heltalet 3\n",
      "Du har försökt 2 gånger\n"
     ]
    }
   ],
   "source": [
    "# Hantera fel från användaren\n",
    "count = 0\n",
    "while (True):\n",
    "    count += 1\n",
    "    try:\n",
    "        tal = int(input(\"Mata in ett positivt heltal: \"))\n",
    "        if(tal < 0):\n",
    "            raise ValueError\n",
    "    except(ValueError) as err:\n",
    "        print(err)\n",
    "        print(\"Inte ett positivt heltal, försök igen!\")\n",
    "    else:\n",
    "        print(\"Du skrev in det positiva heltalet\", tal)\n",
    "        break\n",
    "    finally:\n",
    "        print(\"Du har försökt {} gånger\".format(count))"
   ]
  },
  {
   "cell_type": "code",
   "execution_count": null,
   "metadata": {
    "collapsed": false
   },
   "outputs": [],
   "source": [
    "# Vi kan flagga för att ett fel har förekommit\n",
    "raise ValueError"
   ]
  }
 ],
 "metadata": {
  "kernelspec": {
   "display_name": "Python 3",
   "language": "python",
   "name": "python3"
  },
  "language_info": {
   "codemirror_mode": {
    "name": "ipython",
    "version": 3
   },
   "file_extension": ".py",
   "mimetype": "text/x-python",
   "name": "python",
   "nbconvert_exporter": "python",
   "pygments_lexer": "ipython3",
   "version": "3.4.2"
  }
 },
 "nbformat": 4,
 "nbformat_minor": 0
}
