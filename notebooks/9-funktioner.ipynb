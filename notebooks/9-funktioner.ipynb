{
 "cells": [
  {
   "cell_type": "markdown",
   "metadata": {},
   "source": [
    "Funktioner\n",
    "==="
   ]
  },
  {
   "cell_type": "markdown",
   "metadata": {},
   "source": [
    "Innehåll\n",
    "---\n",
    "\n",
    "- [Blocken i kursen](#block)\n",
    "- [Förra passet](#last)\n",
    "- [Funktioner](#funktioner)\n",
    "- [Nästa pass](#nasta)\n",
    "\n",
    "\n",
    "**Dagens pass: ** \n",
    "Kap 10 Funktioner\n",
    "\n",
    "**Uppgifter: **\n",
    "\n",
    "- Instuderingsfrågor i Läroboken\n",
    "    - 1 - 8\n",
    "- Uppgifter i Arbetsboken (Skicka in följande uppgifter via git (gist))\n",
    "    - 10.1\n",
    "    - 10.6\n",
    "    \n",
    "    - 10.5\n",
    "    - 10.7\n",
    "    - 10.8*"
   ]
  },
  {
   "cell_type": "markdown",
   "metadata": {},
   "source": [
    "Block 1\n",
    "---\n",
    "\n",
    "- Programmeringsspråk\n",
    "- Primitiva datatyper, int, float, string, boolean\n",
    "- Aritmetiska operationer\n",
    "- Villkor, logiska operator , and, or, not\n",
    "- Selektioner\n",
    "- Iterationer\n",
    "\n",
    "Block 2\n",
    "---\n",
    "\n",
    "- Listor och tipplar (Mer om listor + dictionaries)\n",
    "- Funktioner och metoder\n",
    "- Moduler\n",
    "    - DateAndTime\n",
    "    - Random\n",
    "    - Time\n",
    "- Klasser och objekt\n",
    "- Sköldpaddsgrafik\n",
    "- Rekursion\n",
    "\n",
    "Block 3\n",
    "---\n",
    "\n",
    "- Sökning\n",
    "- Sortering\n",
    "- Användargränssnitt (pyqt)\n",
    "- (Filhantering)\n",
    "- Mer om programmeringsspråk"
   ]
  },
  {
   "cell_type": "markdown",
   "metadata": {},
   "source": [
    "Tidigare\n",
    "---"
   ]
  },
  {
   "cell_type": "code",
   "execution_count": 8,
   "metadata": {
    "collapsed": false
   },
   "outputs": [
    {
     "name": "stdout",
     "output_type": "stream",
     "text": [
      "Ange antal tal att mata in: 4\n",
      "Ange tal: 1\n",
      "Ange tal: 2\n",
      "Ange tal: 3\n",
      "Ange tal: 4\n",
      "[1, 2, 3, 4]\n",
      "Summan är:  10 \n",
      "Medelvärdet är:  2.5\n"
     ]
    }
   ],
   "source": [
    "#Uppgift 9.3\n",
    "#antal tal\n",
    "antal_tal = int(input(\"Ange antal tal att mata in: \"))\n",
    "lista = []\n",
    "#inmatning av tal\n",
    "#alt for n in range(0,antal_tal):\n",
    "while (antal_tal > 0):\n",
    "    tal = int(input(\"Ange tal: \"))\n",
    "    lista.append(tal)\n",
    "    antal_tal -= 1\n",
    "#skriv ut listan\n",
    "print(lista)\n",
    "#Beräkna summa och medelvärde\n",
    "summa = medelv = 0\n",
    "for n in lista:\n",
    "    summa += n\n",
    "medelv = summa / len(lista)\n",
    "\n",
    "print(\"Summan är: \",summa, \"\\nMedelvärdet är: \", medelv)"
   ]
  },
  {
   "cell_type": "markdown",
   "metadata": {},
   "source": [
    "Funktioner\n",
    "---\n",
    "\n",
    "\n",
    "\n",
    "Dagens pass kap 10 funktioner\n",
    "\n",
    "En funktion är ett namngivet kodblock. Kan användas till att återanvända kod och att strukturera program på ett sätt som gör det mer läsbart. \n",
    "\n",
    "En tumregel för en funktion är att den inte gör mer än att det går att beskriva med en mening. Namngivning skall även vara så att namnet anger vad funktionen gör.\n",
    "\n",
    "Begrepp för funktioner\n",
    "\n",
    "- funktionshuvud\n",
    "- parameter\n",
    "- argument\n",
    "- funktionsanrop\n",
    "- returvariabel\n",
    "\n",
    "**OBS** anropet till en funktion sker alltid med parenteser i slutet\n",
    "\n",
    "**Syntax:**\n",
    "\n",
    "    def foo(a,b):           #funktionshuvud\n",
    "        ...                 #a och b är parametrar\n",
    "        return c            #c är en returvariabel\n",
    "        \n",
    "    foo(5,2)                #funktionsanrop\n",
    "                            # 5 och 2 är argument"
   ]
  },
  {
   "cell_type": "code",
   "execution_count": 14,
   "metadata": {
    "collapsed": false
   },
   "outputs": [
    {
     "name": "stdout",
     "output_type": "stream",
     "text": [
      "10\n"
     ]
    },
    {
     "data": {
      "text/plain": [
       "3"
      ]
     },
     "execution_count": 14,
     "metadata": {},
     "output_type": "execute_result"
    }
   ],
   "source": [
    "# Exempel\n",
    "# En funktion som beräknar arean av en rektangel\n",
    "# funktioner föregås av ordet def\n",
    "# funktionsnamn börjar alltid med gemen\n",
    "\n",
    "def rektangel_area1 (b, h): #Funktionshuvud, b,h är parametrar\n",
    "    \"\"\"Docstring - beskriver kort funktionen. Vår funktion \n",
    "    beräknar arean hos en rektangel, där b är basen och här \n",
    "    höjden i rektangeln\"\"\"\n",
    "    area = b*h\n",
    "    print(area) #En print sats skall undvikas i funktioner\n",
    "\n",
    "def rektangel_area2 (b, h): #Funktionshuvud, b,h är parametrar\n",
    "    \"\"\"Docstring - beskriver kort funktionen. Vår funktion \n",
    "    beräknar arean hos en rektangel\"\"\"\n",
    "    area = b*h\n",
    "    return area # returvariabel\n",
    "    \n",
    "rektangel_area1(2,5) # funktionsanrop (2,5) är funktionens argument\n",
    "\n",
    "rektangel_area2(2,4)\n"
   ]
  },
  {
   "cell_type": "code",
   "execution_count": 16,
   "metadata": {
    "collapsed": false
   },
   "outputs": [
    {
     "name": "stdout",
     "output_type": "stream",
     "text": [
      "Help on function rektangel_area1 in module __main__:\n",
      "\n",
      "rektangel_area1(b, h)\n",
      "    Docstring - beskriver kort funktionen. Vår funktion \n",
      "    beräknar arean hos en rektangel\n",
      "\n"
     ]
    }
   ],
   "source": [
    "# Hjälpinformation om funktionen kan hämtas med help funktionen\n",
    "help(rektangel_area1)"
   ]
  },
  {
   "cell_type": "code",
   "execution_count": 4,
   "metadata": {
    "collapsed": false
   },
   "outputs": [
    {
     "name": "stdout",
     "output_type": "stream",
     "text": [
      "List-program\n",
      "=============\n",
      "Ange antal tal att mata in: 4\n",
      "Ange tal: 1\n",
      "Ange tal: 2\n",
      "Ange tal: 3\n",
      "Ange tal: 4\n",
      "[1, 2, 3, 4]\n",
      "Summan är:  10 \n",
      "Medelvärdet är:  2.5\n"
     ]
    }
   ],
   "source": [
    "#9.3 på nytt sätt\n",
    "def rubrik():\n",
    "    print(\"List-program\" + \"\\n=============\")\n",
    "\n",
    "def inmatning():\n",
    "    antal_tal = int(input(\"Ange antal tal att mata in: \"))\n",
    "    listan = []\n",
    "    #inmatning av tal\n",
    "    while (antal_tal > 0):\n",
    "        tal = int(input(\"Ange tal: \"))\n",
    "        listan.append(tal)\n",
    "        antal_tal -= 1\n",
    "    return listan\n",
    "\n",
    "def kalkylering(listan):\n",
    "    #Beräkna summa och medelvärde\n",
    "    summa = medelv = 0\n",
    "    for n in listan:\n",
    "        summa += n\n",
    "    medelv = summa / len(listan)\n",
    "    return [summa, medelv]\n",
    "\n",
    "def utskrift(lista, sum_medel):\n",
    "    print(lista)\n",
    "    print(\"Summan är: \",sum_medel[0], \"\\nMedelvärdet är: \", sum_medel[1])\n",
    "\n",
    "def main(): # main-metoden\n",
    "    rubrik()\n",
    "    lista = inmatning()\n",
    "    sum_medel = kalkylering(lista)\n",
    "    utskrift(lista, sum_medel)\n",
    "    \n",
    "main()"
   ]
  },
  {
   "cell_type": "markdown",
   "metadata": {},
   "source": [
    "Mer om funktioner\n",
    "---\n",
    "\n",
    "Bra att tänka på om funktioner:\n",
    "\n",
    "- Variabler som skapas inom en funktion försvinner när funktionen är avslutad. Mer om synlighet av variabler senare i kursen.\n",
    "- Det är möjligt att returnera flera variabler\n",
    "- Tänk på att skriva en docstring \"\"\" ... \"\"\" till funktionerna. Den används av help() funktionen.\n"
   ]
  },
  {
   "cell_type": "code",
   "execution_count": 2,
   "metadata": {
    "collapsed": false
   },
   "outputs": [
    {
     "name": "stdout",
     "output_type": "stream",
     "text": [
      "(10, 15)\n"
     ]
    }
   ],
   "source": [
    "#ex 1\n",
    "def foo():\n",
    "    a = 10\n",
    "    b = 15\n",
    "    return a,b\n",
    "\n",
    "c = foo()\n",
    "print(c)"
   ]
  },
  {
   "cell_type": "code",
   "execution_count": 3,
   "metadata": {
    "collapsed": false
   },
   "outputs": [
    {
     "name": "stdout",
     "output_type": "stream",
     "text": [
      "[2, 4, 6]\n"
     ]
    }
   ],
   "source": [
    "#ex 2\n",
    "def foo(lista):\n",
    "    for n in range(len(lista)):\n",
    "        lista[n] *= 2\n",
    "        \n",
    "min_lista = [1,2,3]\n",
    "print(min_lista)\n",
    "foo(min_lista)\n",
    "print(min_lista)\n",
    "        "
   ]
  },
  {
   "cell_type": "markdown",
   "metadata": {},
   "source": [
    "Moduler\n",
    "---\n",
    "\n",
    "I python finns det en hel del färdiga funktioner. Funktioner grupperas i så kallade moduler (filer som innehåller ett flertal funktioner som helst skall höra ihop).\n",
    "\n",
    "Vanliga moduler\n",
    "\n",
    "- math\n",
    "- random\n",
    "- time\n",
    "- datetime\n",
    "- copy\n",
    "- sys\n",
    "- os\n",
    "- m.m.\n",
    "\n",
    "För att kunna använda modulerna behöver man importera dem. Importen sker genom att använda något av följande kommandon. Här används math som exempel.\n",
    "\n",
    "    #Alt 1\n",
    "    import math\n",
    "    math.sqrt(4)\n",
    "    \n",
    "    \n",
    "    #Alt 2\n",
    "    from math import *     #vanligast\n",
    "    #eller\n",
    "    from math import sqrt\n",
    "    sqrt(4)\n",
    "    \n",
    "    \n",
    "    #Alt 3\n",
    "    import math as m\n",
    "    m.sqrt(4)\n",
    "    \n",
    "Hjälp till modulerna fås genom att använda:\n",
    "    help(math)\n",
    "    help(math.sqrt)\n",
    "    dir(math)"
   ]
  },
  {
   "cell_type": "code",
   "execution_count": null,
   "metadata": {
    "collapsed": false
   },
   "outputs": [],
   "source": []
  },
  {
   "cell_type": "markdown",
   "metadata": {
    "collapsed": false
   },
   "source": [
    "Nästa pass\n",
    "---\n",
    "\n",
    "Mer om moduler"
   ]
  }
 ],
 "metadata": {
  "kernelspec": {
   "display_name": "Python 3",
   "language": "python",
   "name": "python3"
  },
  "language_info": {
   "codemirror_mode": {
    "name": "ipython",
    "version": 3
   },
   "file_extension": ".py",
   "mimetype": "text/x-python",
   "name": "python",
   "nbconvert_exporter": "python",
   "pygments_lexer": "ipython3",
   "version": "3.4.3"
  }
 },
 "nbformat": 4,
 "nbformat_minor": 0
}
