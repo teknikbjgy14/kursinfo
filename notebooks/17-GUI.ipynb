{
 "cells": [
  {
   "cell_type": "markdown",
   "metadata": {},
   "source": [
    "GUI\n",
    "===\n",
    "\n",
    "**Grafiska användargränssnitt (Graphical User Interface)**\n",
    "\n",
    "Ett GUI är händelsebaserat vilket innebär att det befinner sig i vila tills en händelse inträffar och programmet reagerar på den händelsen och sedan återgår i vila. Vikitgt att komma ihåg är att inte överbelsta den tråd som hanterar händelserna med logik-operationer. Programmet kommer då att upplevas segt och hackigt.\n",
    "\n",
    "Den vanligaste modellen för ett GUI är den s.k M-V-C designprincipen. (Model-Viewer-Controller). Model innehåller den datamodel (information) som programmet använder sig av. Viewer är det grafiska fönstret på skärmen, viewer tar även emot händelser från användaren och skickar dessa vidare till Controller. Controller skickar händelser till Model för att uppdatera modellen och signalerar till Viewer att uppdatera och visa förändringarna i Model.\n",
    "\n",
    "I den här kursen kommer vi att använda biblioteket PyQt4. Det finns ett flertal andra till Pyhton. Vi kommer att titta på följande:\n",
    "\n",
    "- En struktur för MVC med flera filer\n",
    "- Layout-hanterare för att placera ut komponenter i ett fönster (vertical och horizontal box)\n",
    "- Komponenter (widgets)\n",
    "    - Button\n",
    "    - LineEdit\n",
    "    - TextEdit\n",
    "    - Rita\n",
    "    \n",
    "**Referenser**"
   ]
  }
 ],
 "metadata": {
  "kernelspec": {
   "display_name": "Python 3",
   "language": "python",
   "name": "python3"
  },
  "language_info": {
   "codemirror_mode": {
    "name": "ipython",
    "version": 3
   },
   "file_extension": ".py",
   "mimetype": "text/x-python",
   "name": "python",
   "nbconvert_exporter": "python",
   "pygments_lexer": "ipython3",
   "version": "3.4.2"
  }
 },
 "nbformat": 4,
 "nbformat_minor": 0
}
