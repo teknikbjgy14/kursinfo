{
 "cells": [
  {
   "cell_type": "markdown",
   "metadata": {},
   "source": [
    "GUI\n",
    "===\n",
    "\n",
    "**Grafiska användargränssnitt (Graphical User Interface)**\n",
    "\n",
    "Ett GUI är händelsebaserat vilket innebär att det befinner sig i vila tills en händelse inträffar och programmet reagerar på den händelsen och sedan återgår i vila. Vikitgt att komma ihåg är att inte överbelsta den tråd som hanterar händelserna med logik-operationer. Programmet kommer då att upplevas segt och hackigt.\n",
    "\n",
    "Den vanligaste modellen för ett GUI är den s.k M-V-C designprincipen. (Model-Viewer-Controller). Model innehåller den datamodel (information) som programmet använder sig av. Viewer är det grafiska fönstret på skärmen, viewer tar även emot händelser från användaren och skickar dessa vidare till Controller. Controller skickar händelser till Model för att uppdatera modellen och signalerar till Viewer att uppdatera och visa förändringarna i Model.\n",
    "\n",
    "I den här kursen kommer vi att använda biblioteket PyQt4. Det finns ett flertal andra till Python. Vi kommer att titta på följande:\n",
    "\n",
    "- En struktur för MVC med flera filer\n",
    "- Layout-hanterare för att placera ut komponenter i ett fönster (vertical och horizontal box)\n",
    "    - VBoxLayout\n",
    "    - HBoxLayout\n",
    "    - FormLayout\n",
    "- Komponenter (widgets)\n",
    "    - Button\n",
    "    - LineEdit\n",
    "    - TextEdit\n",
    "    - Rita\n",
    "- Signaler och slots\n",
    "    - decorators\n",
    "\n",
    "**Referenser**\n",
    "\n",
    "http://pyqt.sourceforge.net/Docs/PyQt4/classes.html\n",
    "\n",
    "https://wiki.python.org/moin/PyQt/Tutorials"
   ]
  },
  {
   "cell_type": "code",
   "execution_count": 77,
   "metadata": {
    "collapsed": false
   },
   "outputs": [
    {
     "ename": "SyntaxError",
     "evalue": "unexpected EOF while parsing (<ipython-input-77-168dd9209377>, line 50)",
     "output_type": "error",
     "traceback": [
      "\u001b[0;36m  File \u001b[0;32m\"<ipython-input-77-168dd9209377>\"\u001b[0;36m, line \u001b[0;32m50\u001b[0m\n\u001b[0;31m    #print(bil)\u001b[0m\n\u001b[0m               ^\u001b[0m\n\u001b[0;31mSyntaxError\u001b[0m\u001b[0;31m:\u001b[0m unexpected EOF while parsing\n"
     ]
    }
   ],
   "source": [
    "#Tidigare: klassen bil\n",
    "\n",
    "class Bil:\n",
    "    def __init__(self, x=0, y=0, farg='Silver', typ='Pickup', hastkrafter=200, igang=False):\n",
    "        \"\"\"x, y, hastkrafter är heltal. Resterande parametrar anges som strings\"\"\"\n",
    "        self.farg = farg\n",
    "        self.typ = typ\n",
    "        self.hastkrafter = hastkrafter\n",
    "        self.igang = igang\n",
    "        self.posX = x\n",
    "        self.posY = y\n",
    "        \n",
    "    def __str__(self):\n",
    "        \"\"\"Ger tillbaka platsen, typen, färgen, antal hästkrafter och om bilen är igång eller inte.\"\"\"\n",
    "        return \"Position: \" + str(self.posX) + ', ' + str(self.posY) + '; ' \\\n",
    "                \"Model: \" + self.typ + '; ' + \\\n",
    "                \"Färg: \"+ self.farg + '; ' \\\n",
    "                \"Hästkrafter: \" + str(self.hastkrafter) +'; ' \\\n",
    "                \"Igång: \" + str(self.igang)\n",
    "    \n",
    "    def starta(self):\n",
    "        \"\"\"Startar bilen.\"\"\"\n",
    "        self.igang = True\n",
    "    \n",
    "    def stoppa(self):\n",
    "        \"\"\"Stannar bilen.\"\"\"\n",
    "        self.igang = False\n",
    "    \n",
    "    def kor_till(self, x, y):\n",
    "        \"\"\"Behöver argument X och Y. Flyttar bilen till positionen\"\"\"\n",
    "        self.posX = x\n",
    "        self.posY = y\n",
    "    \n",
    "    def position(self):\n",
    "        \"\"\"Läser av vart bilen finns.\"\"\"\n",
    "        return str(self.locationX) + ', ' + str(self.locationY)\n",
    "    \n",
    "\n",
    "#skapar två objekt av klassen bil\n",
    "from random import randint\n",
    "\n",
    "bilar = []\n",
    "for n in range(0,5):\n",
    "    bilar.append(Bil(randint(0,10),randint(0,10)))\n",
    "    #print(bilar[len(bilar)-1])\n",
    "\n",
    "#startar bilarna\n",
    "for bil in bilar:\n",
    "    if(randint(0,11)%2==0):\n",
    "        bil.starta()\n",
    "\n",
    "print(bilar)\n",
    "for bil in bilar:\n",
    "    #print(bil)\n",
    "    "
   ]
  },
  {
   "cell_type": "code",
   "execution_count": 78,
   "metadata": {
    "collapsed": false
   },
   "outputs": [
    {
     "ename": "ImportError",
     "evalue": "No module named 'PyQt4'",
     "output_type": "error",
     "traceback": [
      "\u001b[0;31m---------------------------------------------------------------------------\u001b[0m",
      "\u001b[0;31mImportError\u001b[0m                               Traceback (most recent call last)",
      "\u001b[0;32m<ipython-input-78-505ab809ff81>\u001b[0m in \u001b[0;36m<module>\u001b[0;34m()\u001b[0m\n\u001b[1;32m      2\u001b[0m \u001b[0;34m\u001b[0m\u001b[0m\n\u001b[1;32m      3\u001b[0m \u001b[0;32mimport\u001b[0m \u001b[0msys\u001b[0m\u001b[0;34m\u001b[0m\u001b[0m\n\u001b[0;32m----> 4\u001b[0;31m \u001b[0;32mfrom\u001b[0m \u001b[0mPyQt4\u001b[0m\u001b[0;34m.\u001b[0m\u001b[0mQtCore\u001b[0m \u001b[0;32mimport\u001b[0m \u001b[0;34m*\u001b[0m\u001b[0;34m\u001b[0m\u001b[0m\n\u001b[0m\u001b[1;32m      5\u001b[0m \u001b[0;32mfrom\u001b[0m \u001b[0mPyQt4\u001b[0m\u001b[0;34m.\u001b[0m\u001b[0mQtGui\u001b[0m \u001b[0;32mimport\u001b[0m \u001b[0;34m*\u001b[0m\u001b[0;34m\u001b[0m\u001b[0m\n\u001b[1;32m      6\u001b[0m \u001b[0;34m\u001b[0m\u001b[0m\n",
      "\u001b[0;31mImportError\u001b[0m: No module named 'PyQt4'"
     ]
    }
   ],
   "source": [
    "#Valutaomvandlare\n",
    "\n",
    "import sys\n",
    "from PyQt4.QtCore import *\n",
    "from PyQt4.QtGui import *\n",
    "\n",
    "app = QApplication(sys.argv)\n",
    "\n",
    "#QMainWindow ger oss tillgång till andra funktioner som menyer, statusrad mm\n",
    "class MyApp(QMainWindow):\n",
    "    \n",
    "    \n",
    "\n",
    "#Skapar en instans och kör den\n",
    "MyApp().run()"
   ]
  },
  {
   "cell_type": "code",
   "execution_count": null,
   "metadata": {
    "collapsed": false
   },
   "outputs": [],
   "source": []
  }
 ],
 "metadata": {
  "kernelspec": {
   "display_name": "Python 3",
   "language": "python",
   "name": "python3"
  },
  "language_info": {
   "codemirror_mode": {
    "name": "ipython",
    "version": 3
   },
   "file_extension": ".py",
   "mimetype": "text/x-python",
   "name": "python",
   "nbconvert_exporter": "python",
   "pygments_lexer": "ipython3",
   "version": "3.4.2"
  }
 },
 "nbformat": 4,
 "nbformat_minor": 0
}
