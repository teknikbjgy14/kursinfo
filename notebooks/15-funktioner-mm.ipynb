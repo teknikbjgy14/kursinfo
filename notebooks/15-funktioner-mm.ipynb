{
 "cells": [
  {
   "cell_type": "markdown",
   "metadata": {},
   "source": [
    "Dagens innehåll\n",
    "---\n",
    "\n",
    "- **Iterering** som utvecklingsprocess av program. Att stegvis förfina programmet. \n",
    "- **Test-funktioner** för att automatisera testning av programmet.\n",
    "- **timeit** för tidtagning av funktioner."
   ]
  },
  {
   "cell_type": "code",
   "execution_count": 1,
   "metadata": {
    "collapsed": false
   },
   "outputs": [
    {
     "name": "stdout",
     "output_type": "stream",
     "text": [
      "Testing OK!\n",
      "0.311529598143373 sekunder\n"
     ]
    }
   ],
   "source": [
    "from math import *\n",
    "\n",
    "def is_prime0_1(nbr):\n",
    "    \"\"\"En funktion som avgör om ett heltal (nbr) är ett primtal. Enklaste versionen \n",
    "    som klarar testfunktions fall. Tidsåtgången blev 13,5 s\"\"\"\n",
    "    if(nbr == 1): return False\n",
    "    for n in range(2, nbr):\n",
    "        if(nbr % n == 0):\n",
    "            return False\n",
    "    return True\n",
    "\n",
    "def is_prime0_2(nbr):\n",
    "    \"\"\"En funktion som avgör om ett heltal (nbr) är ett primtal. I denna version av \n",
    "    funktionen testas inte jämna heltal. Tidsåtgången blev 6,7 s\"\"\"\n",
    "    if(nbr == 1): return False\n",
    "    if(nbr == 2): return True\n",
    "    if(nbr % 2 == 0): return False\n",
    "    for n in range(3,nbr,2):\n",
    "        if(nbr % n == 0):\n",
    "            return False\n",
    "    return True\n",
    "\n",
    "def is_prime(nbr):\n",
    "    \"\"\"En funktion som avgör om ett heltal (nbr) är ett primtal. I denna version av \n",
    "    funktionen testas inte jämna heltal. De enda faktorer som testas är de som är \n",
    "    mindre än roten av talet (nbr). Tidsåtgången blev 0,07s\"\"\"\n",
    "    if(nbr == 1): return False\n",
    "    if(nbr == 2): return True\n",
    "    if(nbr % 2 == 0): return False\n",
    "    for n in range(3,int(nbr**0.5)+1,2):\n",
    "        if(nbr % n == 0):\n",
    "            return False\n",
    "    return True\n",
    "\n",
    "def test_prime():\n",
    "    \"\"\"Detta är en test-funktion där vi kontrollerar att is_prime funktionen ger rätt utfall i \n",
    "    några valda fall\"\"\"\n",
    "    if is_prime(1) != False:\n",
    "        print(\"Failed\")\n",
    "        return\n",
    "    if is_prime(2) != True:\n",
    "        print(\"Failed\")\n",
    "        return\n",
    "    if is_prime(3) != True:\n",
    "        print(\"Failed\")\n",
    "        return\n",
    "    if is_prime(4) != False:\n",
    "        print(\"Failed\")\n",
    "        return\n",
    "    if is_prime(5) != True:\n",
    "        print(\"Failed\")\n",
    "        return\n",
    "    if is_prime(6) != False:\n",
    "        print(\"Failed\")\n",
    "        return\n",
    "    if is_prime(7) != True:\n",
    "        print(\"Failed\")\n",
    "        return\n",
    "    if is_prime(8) != False:\n",
    "        print(\"Failed\")\n",
    "        return\n",
    "    if is_prime(9) != False:\n",
    "        print(\"Failed\")\n",
    "        return\n",
    "    if is_prime(10) != False:\n",
    "        print(\"Failed\")\n",
    "        return\n",
    "    if is_prime(11) != True:\n",
    "        print(\"Failed\")\n",
    "        return\n",
    "    if is_prime(997) != True:\n",
    "        print(\"Failed\")\n",
    "        return\n",
    "    print(\"Testing OK!\")\n",
    "\n",
    "import timeit\n",
    "def time_test():\n",
    "    \"\"\"timeit kräven en funktion utan argument därför kapslas is_prime funktionen\n",
    "    in i en yttre funktion där argumenten till is_prime anges\"\"\"\n",
    "    for n in range(1,50001):\n",
    "        is_prime(n)\n",
    "\n",
    "#En check av de 20 första resultaten\n",
    "#for n in range(1,20):\n",
    "#    print(n, is_prime(n), end=\"\\n\")\n",
    "\n",
    "#Testfunktionen körs\n",
    "test_prime()\n",
    "#I timeit körs funktionen och det anges även hur många gånger funktionen skall köras.\n",
    "print(timeit.timeit(time_test, number=1),\"sekunder\")"
   ]
  }
 ],
 "metadata": {
  "kernelspec": {
   "display_name": "Python 3",
   "language": "python",
   "name": "python3"
  },
  "language_info": {
   "codemirror_mode": {
    "name": "ipython",
    "version": 3
   },
   "file_extension": ".py",
   "mimetype": "text/x-python",
   "name": "python",
   "nbconvert_exporter": "python",
   "pygments_lexer": "ipython3",
   "version": "3.4.3"
  }
 },
 "nbformat": 4,
 "nbformat_minor": 0
}
