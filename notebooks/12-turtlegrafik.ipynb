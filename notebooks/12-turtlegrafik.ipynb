{
 "cells": [
  {
   "cell_type": "markdown",
   "metadata": {},
   "source": [
    "Funktioner och Turtlegrafik\n",
    "==="
   ]
  },
  {
   "cell_type": "markdown",
   "metadata": {},
   "source": [
    "Innehåll\n",
    "---\n",
    "\n",
    "- [Förra passet](#last)\n",
    "- [Turtlegrafik](#turtle)\n",
    "- [Lektionsuppgift](#uppgift)\n",
    "- [Nästa pass](#nasta)"
   ]
  },
  {
   "cell_type": "markdown",
   "metadata": {},
   "source": [
    "Dagens pass\n",
    "---\n",
    "\n",
    "- Kap 13 Sköldpadsgrafik\n",
    "- Uppgifter\n",
    "    - 13.1,2,3"
   ]
  },
  {
   "cell_type": "markdown",
   "metadata": {},
   "source": [
    "<a name='last'></a>Förra passet\n",
    "---\n",
    "\n",
    "**Felhantering**"
   ]
  },
  {
   "cell_type": "markdown",
   "metadata": {},
   "source": [
    "<a name='turtle'></a>Turtlegrafik\n",
    "---\n",
    "\n",
    "https://docs.python.org/3.0/library/turtle.html\n",
    "\n",
    "En stor del av modern programmering är av en typ kallad **objektorienterad programmering**. Den bygger helt på objekt.\n",
    "\n",
    "Ett objektinnehåller två typer:\n",
    "\n",
    "- **egenskaper** (attribut, medlemsvariabler, klassvariabler m.m.)\n",
    "- **metoder** (funktioner)\n",
    "\n",
    "Egenskaperna och metoderna kommer man åt mha **.-operatorn**.\n",
    "\n",
    "Andra typer är **rekursiv programmering** och **funktionsbaserad programmering**.\n",
    "\n",
    "En sköldpadda är ett objekt. Ni kan tänka er en figur med en penna i handen. \n",
    "\n",
    "En sköldpadda har följande egenskaper:\n",
    "- Penna (Up eller ner) (True or false)\n",
    "- Hastighet (0-20) (Högsta hastigheten är noll)\n",
    "- Riktning som anges i grader (0 -360) 0 är rakt till höger\n",
    "\n",
    "I biblioteket till turtle finns bla a följande metoder\n",
    "\n",
    "    forward(sträcka)\n",
    "    fd(sträcka)\n",
    "    \n",
    "    back(sträcka)\n",
    "    bk(sträcka)\n",
    "    \n",
    "    penup()   pu()\n",
    "    pendown() pd()\n",
    "    \n",
    "    hideturtle()   ht()\n",
    "    showturtle()   st()\n",
    "    \n",
    "    left(grader)\n",
    "    right(grader)\n",
    "    \n",
    "    heading()\n",
    "    setheading()\n",
    "    \n",
    "    goto(x,y)\n",
    "    setpos(x,y)\n",
    "    position()\n",
    "    speed()\n",
    "    \n",
    "    pencolor()\n",
    "    fillcolor()\n",
    "    bgcolor()\n",
    "    \n",
    "    clear()\n",
    "    done()\n",
    "    bye()\n",
    "    \n",
    "    setup(width, height)\n",
    "    setworldcoordinates(x1,y1,x2,y2)"
   ]
  },
  {
   "cell_type": "code",
   "execution_count": 3,
   "metadata": {
    "collapsed": false
   },
   "outputs": [],
   "source": [
    "#Ex1: Rita rektangel funktion  och vinklad triangel\n",
    "from turtle import *\n",
    "\n",
    "setup(600,600)\n",
    "setworldcoordinates(0,0,10,10)\n",
    "\n",
    "\n",
    "\n",
    "done()"
   ]
  },
  {
   "cell_type": "markdown",
   "metadata": {},
   "source": [
    "<a name='nasta'></a>Nästa pass\n",
    "---\n",
    "\n"
   ]
  },
  {
   "cell_type": "code",
   "execution_count": 5,
   "metadata": {
    "collapsed": false
   },
   "outputs": [],
   "source": []
  }
 ],
 "metadata": {
  "kernelspec": {
   "display_name": "Python 3",
   "language": "python",
   "name": "python3"
  },
  "language_info": {
   "codemirror_mode": {
    "name": "ipython",
    "version": 3
   },
   "file_extension": ".py",
   "mimetype": "text/x-python",
   "name": "python",
   "nbconvert_exporter": "python",
   "pygments_lexer": "ipython3",
   "version": "3.4.3"
  }
 },
 "nbformat": 4,
 "nbformat_minor": 0
}
