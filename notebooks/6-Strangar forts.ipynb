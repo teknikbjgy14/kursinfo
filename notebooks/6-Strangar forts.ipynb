{
 "cells": [
  {
   "cell_type": "markdown",
   "metadata": {},
   "source": [
    "Strängar\n",
    "===\n",
    "\n",
    "Strängar är den datatyp i python som innehåller text. En sträng kan ses som en lista av endast literals (bokstäver). Denna lista är indexerad från 0 .. n, där n är längden av strängen  - 1.\n",
    "\n",
    "    \"Kalle Anka\"\n",
    "     0123456789\n",
    "     \n",
    "I python kan datatyper vara antingen:\n",
    "\n",
    "- mutable (föränderlig)\n",
    "- immutable (oföränderlig, statisk)\n",
    "\n",
    "Strängar i python är oföränderliga. Ska en sträng ändras måste man alltså skapa en ny.\n",
    "\n",
    "Slices\n",
    "---\n",
    "\n",
    "Ska endast en del av strängen skäras ut kan slice-operatorn användas. Den ser ut som följande:\n",
    "    \n",
    "    [start:stop:steg]\n",
    "    \n",
    "Utelämnas någon av argumenten antar dom standardvärdena.\n",
    "\n",
    "    [0:len(string):1]"
   ]
  },
  {
   "cell_type": "code",
   "execution_count": 6,
   "metadata": {
    "collapsed": false
   },
   "outputs": [
    {
     "name": "stdout",
     "output_type": "stream",
     "text": [
      "e\n",
      "Kalle\n",
      " Anka\n",
      "Kle\n",
      "aknA ellaK\n"
     ]
    }
   ],
   "source": [
    "string = \"Kalle Anka\"\n",
    "print(string[4]) # en bokstav skrivs ut\n",
    "\n",
    "print(string[0:5]) # bokstäver på plats 0-4 skrivs ut\n",
    "\n",
    "print(string[5:]) # bokstäver från 5 till slutet skrivs ut\n",
    "\n",
    "print(string[:5:2]) # varannan bokstav från 0 - 4.\n",
    "\n",
    "print(string[::-1])"
   ]
  },
  {
   "cell_type": "markdown",
   "metadata": {},
   "source": [
    "\n",
    "Sträng-operationer\n",
    "---\n",
    "\n",
    "Bra operationer att känna till:\n",
    "\n",
    "    string = \"Kalle Anka\"\n",
    "\n",
    "- len(string)\n",
    "- str() #typomvandling\n",
    "- int() #typomvandling\n",
    "- float() #typomvandling\n",
    "- ord() #teckenkoden för en bokstav\n",
    "- string.center( int )\n",
    "- string.count( string )\n",
    "- string.upper()\n",
    "- string.lower()\n",
    "- string.capitalize()\n",
    "- string.replace(string1, string2)\n",
    "\n"
   ]
  },
  {
   "cell_type": "markdown",
   "metadata": {},
   "source": [
    "Jämförelser\n",
    "---\n",
    "\n",
    "För jämförelser kan man använda:\n",
    "\n",
    "    ==\n",
    "    !=\n",
    "    in"
   ]
  },
  {
   "cell_type": "markdown",
   "metadata": {},
   "source": [
    "Uppgift\n",
    "---\n",
    "\n",
    "Skriv ett inloggningsprogram enligt aktivitetsdiagrammet."
   ]
  },
  {
   "cell_type": "markdown",
   "metadata": {},
   "source": [
    "Importering\n",
    "---\n",
    "\n",
    "Det finns väldigt mycket kod färdigt i python men för att kunna använda funktionerna måste modulen importeras. Exempelvis math modulen\n",
    "    \n",
    "    # Exempel 1\n",
    "    import math\n",
    "    math.sqrt(2)\n",
    "    \n",
    "    # Exempel 2\n",
    "    from math import *\n",
    "    sqrt(2)\n",
    "    \n",
    "    # Exempel 3\n",
    "    from math import sqrt\n",
    "    sqrt(2)\n",
    "    \n",
    "Bra moduler (kommer senare i kursen)\n",
    "\n",
    "- math (ger tillgång till vanliga matematisk funktioner)\n",
    "- random (ger tillgång till slumptal)\n",
    "- datetime (ger tillgång till datum)"
   ]
  },
  {
   "cell_type": "code",
   "execution_count": 12,
   "metadata": {
    "collapsed": false
   },
   "outputs": [
    {
     "name": "stdout",
     "output_type": "stream",
     "text": [
      "Help on built-in function sqrt in module math:\n",
      "\n",
      "sqrt(...)\n",
      "    sqrt(x)\n",
      "    \n",
      "    Return the square root of x.\n",
      "\n"
     ]
    }
   ],
   "source": [
    "import math\n",
    "#dir(math)\n",
    "#help(math)\n",
    "#help(math.sqrt)"
   ]
  },
  {
   "cell_type": "markdown",
   "metadata": {},
   "source": []
  }
 ],
 "metadata": {
  "kernelspec": {
   "display_name": "Python 3",
   "language": "python",
   "name": "python3"
  },
  "language_info": {
   "codemirror_mode": {
    "name": "ipython",
    "version": 3
   },
   "file_extension": ".py",
   "mimetype": "text/x-python",
   "name": "python",
   "nbconvert_exporter": "python",
   "pygments_lexer": "ipython3",
   "version": "3.4.2"
  }
 },
 "nbformat": 4,
 "nbformat_minor": 0
}
