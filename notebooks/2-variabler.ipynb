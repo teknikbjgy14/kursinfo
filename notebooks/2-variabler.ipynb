{
 "metadata": {
  "name": "",
  "signature": "sha256:cc5cfed07c8c2231fe5cb5f8396d1f3b3c60ca1ddb746eab13dde1b68e65543c"
 },
 "nbformat": 3,
 "nbformat_minor": 0,
 "worksheets": [
  {
   "cells": [
    {
     "cell_type": "markdown",
     "metadata": {},
     "source": [
      "Variabler och Primitiva datatyper\n",
      "===\n",
      "\n",
      "I detta dokument f\u00f6rklaras vad en variabel \u00e4r och n\u00e5gra datatyper. De minsta best\u00e5ndsdelarna i ett programmeringsspr\u00e5k."
     ]
    },
    {
     "cell_type": "markdown",
     "metadata": {},
     "source": [
      "Inneh\u00e5ll\n",
      "---\n",
      "\n",
      "- [Bits och Bytes](#bits)\n",
      "- [Int](#int)\n",
      "- [Float](#float)\n",
      "- [String](#string)\n",
      "- [Boolean](#boolean)\n",
      "- [Variabler](#variabler)"
     ]
    },
    {
     "cell_type": "markdown",
     "metadata": {},
     "source": [
      "<a name='bits'></a>Bits och Bytes\n",
      "---\n",
      "\n",
      "Bit - 1 eller 0\n",
      "Byte - 8 bit r\u00e4cker till att koda ett tecken"
     ]
    },
    {
     "cell_type": "markdown",
     "metadata": {},
     "source": [
      "<a name='int'></a>Int\n",
      "---\n",
      "Ett heltal.\n",
      "Vanliga aritmetiska operationer fungerar p\u00e5 heltal:\n",
      "(aritmetiska operatorer)\n",
      "\n",
      "- +\n",
      "- -\n",
      "- *\n",
      "- /\n",
      "- // - heltalsdivision\n",
      "- % - restoperatorn\n",
      "- **"
     ]
    },
    {
     "cell_type": "code",
     "collapsed": false,
     "input": [
      "# Detta tecken anv\u00e4nds f\u00f6r att skriva kommentarer\n",
      "# Lite arimetiska operationer.\n",
      "\n",
      "5//2\n",
      "\n",
      "5%2\n",
      "\n",
      "5 ** 2 # exponentoperatorn"
     ],
     "language": "python",
     "metadata": {},
     "outputs": [
      {
       "metadata": {},
       "output_type": "pyout",
       "prompt_number": 9,
       "text": [
        "25"
       ]
      }
     ],
     "prompt_number": 9
    },
    {
     "cell_type": "markdown",
     "metadata": {},
     "source": [
      "<a name='float'></a>Float\n",
      "---\n",
      "\n",
      "Flyttal - decimaltal"
     ]
    },
    {
     "cell_type": "code",
     "collapsed": false,
     "input": [
      "1 # int\n",
      "1.0 # float\n",
      "int(5/2) #typomvandling"
     ],
     "language": "python",
     "metadata": {},
     "outputs": [
      {
       "metadata": {},
       "output_type": "pyout",
       "prompt_number": 11,
       "text": [
        "2"
       ]
      }
     ],
     "prompt_number": 11
    },
    {
     "cell_type": "markdown",
     "metadata": {},
     "source": [
      "<a name='string'></a>String\n",
      "---\n",
      "\n",
      "Str\u00e4ng - ord/text\n"
     ]
    },
    {
     "cell_type": "code",
     "collapsed": false,
     "input": [
      "'H' # Str\u00e4ng (char) ett ord\n",
      "\"Hello\" # Str\u00e4ng flera ord\n",
      "\"\"\"Hello World\"\"\" #Str\u00e4ng omfattar texten flera rader m\u00e5ste denna anv\u00e4ndas"
     ],
     "language": "python",
     "metadata": {},
     "outputs": [
      {
       "metadata": {},
       "output_type": "pyout",
       "prompt_number": 12,
       "text": [
        "'Hello World'"
       ]
      }
     ],
     "prompt_number": 12
    },
    {
     "cell_type": "code",
     "collapsed": false,
     "input": [
      "\"I want't a break\" # apostrof i texten => dubbla \" \"\n",
      "'\"He said\"'\n",
      "'I want\\'t a break' # \\ escape-character\n",
      "\"I want't\\n a break\" # \\n radbrytning"
     ],
     "language": "python",
     "metadata": {},
     "outputs": [
      {
       "metadata": {},
       "output_type": "pyout",
       "prompt_number": 17,
       "text": [
        "\"I want't\\n a break\""
       ]
      }
     ],
     "prompt_number": 17
    },
    {
     "cell_type": "code",
     "collapsed": false,
     "input": [
      "'Hej' + ' d\u00e5'"
     ],
     "language": "python",
     "metadata": {},
     "outputs": [
      {
       "metadata": {},
       "output_type": "pyout",
       "prompt_number": 19,
       "text": [
        "'Hej d\u00e5'"
       ]
      }
     ],
     "prompt_number": 19
    },
    {
     "cell_type": "code",
     "collapsed": false,
     "input": [
      "'Hej, ' * 5"
     ],
     "language": "python",
     "metadata": {},
     "outputs": [
      {
       "metadata": {},
       "output_type": "pyout",
       "prompt_number": 21,
       "text": [
        "'Hej, Hej, Hej, Hej, Hej, '"
       ]
      }
     ],
     "prompt_number": 21
    },
    {
     "cell_type": "markdown",
     "metadata": {},
     "source": [
      "<a name='boolean'></a>Boolean\n",
      "---\n",
      "\n",
      "Sant eller falskt"
     ]
    },
    {
     "cell_type": "code",
     "collapsed": false,
     "input": [
      "True\n",
      "False"
     ],
     "language": "python",
     "metadata": {},
     "outputs": [
      {
       "metadata": {},
       "output_type": "pyout",
       "prompt_number": 22,
       "text": [
        "False"
       ]
      }
     ],
     "prompt_number": 22
    },
    {
     "cell_type": "markdown",
     "metadata": {},
     "source": [
      "<a name='variabler'></a>Variabler\n",
      "---\n",
      "\n",
      "En variabel kan ses som ett namn p\u00e5 ett sparat v\u00e4rde. F\u00f6r att spara ett v\u00e4rde till en variabel anv\u00e4nds tilldelningsoperatorn **=**. Nedan sparas v\u00e4rdet 10 i variabeln a. Notera ordningen, variabeln alltid till v\u00e4nster och v\u00e4rdet (datatypen) till h\u00f6ger.\n",
      "\n",
      "Namngivning av variabler:\n",
      "\n",
      "- namnet skall vara beskrivande\n",
      "- det f\u00e5r inte b\u00f6rja med ett tecken, stor bokstav eller siffra\n",
      "- camel case kan anv\u00e4ndas\n",
      "- understr\u00e4ckmellan orden"
     ]
    },
    {
     "cell_type": "code",
     "collapsed": false,
     "input": [
      "numberIsNotPrime = 0# camelcase\n",
      "number_is_not_prime = 0\n",
      "a = 10\n",
      "a = a + 10\n",
      "print(a)"
     ],
     "language": "python",
     "metadata": {},
     "outputs": [
      {
       "output_type": "stream",
       "stream": "stdout",
       "text": [
        "20\n"
       ]
      }
     ],
     "prompt_number": 32
    },
    {
     "cell_type": "code",
     "collapsed": false,
     "input": [],
     "language": "python",
     "metadata": {},
     "outputs": []
    }
   ],
   "metadata": {}
  }
 ]
}