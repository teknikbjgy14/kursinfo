{
 "cells": [
  {
   "cell_type": "markdown",
   "metadata": {},
   "source": [
    "Algoritmer\n",
    "===\n",
    "\n",
    "Tidigare\n",
    "---\n",
    "\n",
    "- Basbegrepp\n",
    "    - sats\n",
    "    - block\n",
    "    - algoritm\n",
    "    - variabel\n",
    "    - tilldelning\n",
    "    - aktivitetsdiagram\n",
    "    \n",
    "\n",
    "- Primitiva datatyper KAP 2\n",
    "    - int\n",
    "        - Aritmetiska operationer ( //,  %)\n",
    "    - float\n",
    "        - Aritmetiska operationer\n",
    "    - boolean\n",
    "        - logiska operationer (or and % not)\n",
    "    - String\n",
    "        - konkatenering ( + )\n",
    "        - index\n",
    "        - typomvandling( str() ord() )\n",
    "        - len()\n",
    "        - vanliga funktioner\n",
    "        - lower(), upper(), title()\n",
    "        \n",
    "- Selektioner (val) KAP 4\n",
    "    - if\n",
    "    - elif\n",
    "    - else\n",
    "    - villkor\n",
    "    - pass\n",
    "    \n",
    "- Iterationer (loopar) KAP 5\n",
    "\n",
    "    - while\n",
    "    - for\n",
    "    - break\n",
    "    - continue\n",
    "\n",
    "    \n",
    "- funktioner\n",
    "\n",
    "    - funktionsnamnn\n",
    "    - argument\n",
    "    - parameter\n",
    "    - funktion(argument)\n",
    "    \n",
    "    \n",
    "- teckenkodningar och talbaser\n",
    "    \n",
    "    - binärt\n",
    "    - decimalt\n",
    "    - oktalt\n",
    "    - hexadecimalt\n",
    "    \n",
    "    - bit\n",
    "    - byte\n",
    "    - kB vs Ki\n",
    "    - ASCII\n",
    "    - unicode (utf-8)\n",
    "    - latin-1\n",
    "    - teckenkoder"
   ]
  },
  {
   "cell_type": "code",
   "execution_count": 9,
   "metadata": {
    "collapsed": false
   },
   "outputs": [
    {
     "name": "stdout",
     "output_type": "stream",
     "text": [
      "1 , 3 , 5 , 7 , 9 , 11 , 13 , 15 , 17 , 19 , "
     ]
    }
   ],
   "source": [
    "for n in range(1,20,2):\n",
    "    if(n)\n",
    "    print(n,', ',end=\"\")"
   ]
  },
  {
   "cell_type": "code",
   "execution_count": 6,
   "metadata": {
    "collapsed": true
   },
   "outputs": [
    {
     "name": "stdout",
     "output_type": "stream",
     "text": [
      "H\n",
      "e\n",
      "l\n",
      "l\n",
      "o\n"
     ]
    }
   ],
   "source": [
    "string = \"Hello\"\n",
    "#for char in string:\n",
    "#    print(char,',', end=\"\")\n",
    "for index in range(0, len(string)):\n",
    "    print(string[index])"
   ]
  },
  {
   "cell_type": "markdown",
   "metadata": {},
   "source": [
    "Talbaser\n",
    "---\n",
    "\n",
    "- Binära basen 2\n",
    "- Decimala basen 10\n",
    "- Oktala basen 8\n",
    "- Hexadecimala basen 16\n",
    "\n",
    "\n",
    "\n",
    "Bitar och Bytes\n",
    "---\n",
    "\n",
    "- bit: 0 eller 1 (b)\n",
    "- byte: 8 bitar (B)\n",
    "\n",
    "\n",
    "\n",
    "\n",
    "Teckenkodning\n",
    "---\n",
    "\n",
    "- ASCII\n",
    "- unicode (utf-8)\n",
    "\n",
    "- TAB, LF\n",
    "- 0, 1, 2, ...\n",
    "- A, B, C, ...\n",
    "- a, b, c, ...\n",
    "\n",
    "\n",
    "Escapesekvenser\n",
    "---\n",
    "\n",
    "- \\t TAB\n",
    "- \\n LF\n",
    "- \\f\n",
    "\n"
   ]
  },
  {
   "cell_type": "code",
   "execution_count": 11,
   "metadata": {
    "collapsed": false
   },
   "outputs": [
    {
     "name": "stdout",
     "output_type": "stream",
     "text": [
      "4\n"
     ]
    }
   ],
   "source": [
    "#binärt\n",
    "bin(7)\n",
    "print(0b100)"
   ]
  },
  {
   "cell_type": "code",
   "execution_count": 10,
   "metadata": {
    "collapsed": false
   },
   "outputs": [
    {
     "name": "stdout",
     "output_type": "stream",
     "text": [
      "47\n"
     ]
    }
   ],
   "source": [
    "#oktalt\n",
    "oct(75)\n",
    "print(0o57)"
   ]
  },
  {
   "cell_type": "code",
   "execution_count": 7,
   "metadata": {
    "collapsed": false
   },
   "outputs": [
    {
     "name": "stdout",
     "output_type": "stream",
     "text": [
      "255\n"
     ]
    }
   ],
   "source": [
    "#hexadecimalt\n",
    "hex(8756785)\n",
    "print(0xff)"
   ]
  },
  {
   "cell_type": "code",
   "execution_count": 14,
   "metadata": {
    "collapsed": false
   },
   "outputs": [
    {
     "data": {
      "text/plain": [
       "65"
      ]
     },
     "execution_count": 14,
     "metadata": {},
     "output_type": "execute_result"
    }
   ],
   "source": [
    "#Omvandla till teccenkod\n",
    "ord('A')\n"
   ]
  },
  {
   "cell_type": "code",
   "execution_count": 15,
   "metadata": {
    "collapsed": false
   },
   "outputs": [
    {
     "data": {
      "text/plain": [
       "'A'"
      ]
     },
     "execution_count": 15,
     "metadata": {},
     "output_type": "execute_result"
    }
   ],
   "source": [
    "#Omvandla till tecken\n",
    "chr(65)"
   ]
  },
  {
   "cell_type": "code",
   "execution_count": 17,
   "metadata": {
    "collapsed": false
   },
   "outputs": [
    {
     "name": "stdout",
     "output_type": "stream",
     "text": [
      "B\n"
     ]
    }
   ],
   "source": [
    "#Förskjuta bokstäver\n",
    "code = ord('A')\n",
    "next_char = code + 1\n",
    "print(chr(next_char))"
   ]
  },
  {
   "cell_type": "code",
   "execution_count": 19,
   "metadata": {
    "collapsed": false
   },
   "outputs": [
    {
     "name": "stdout",
     "output_type": "stream",
     "text": [
      "Hej\n",
      "då\n",
      "Hej\tdå\n"
     ]
    }
   ],
   "source": [
    "#escapesekvenser\n",
    "print(\"Hej\\ndå\")\n",
    "print(\"Hej\\tdå\")"
   ]
  }
 ],
 "metadata": {
  "kernelspec": {
   "display_name": "Python 3",
   "language": "python",
   "name": "python3"
  },
  "language_info": {
   "codemirror_mode": {
    "name": "ipython",
    "version": 3
   },
   "file_extension": ".py",
   "mimetype": "text/x-python",
   "name": "python",
   "nbconvert_exporter": "python",
   "pygments_lexer": "ipython3",
   "version": "3.4.3"
  }
 },
 "nbformat": 4,
 "nbformat_minor": 0
}
