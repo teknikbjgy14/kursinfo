{
 "cells": [
  {
   "cell_type": "markdown",
   "metadata": {},
   "source": [
    "Funktioner och Turtlegrafik\n",
    "==="
   ]
  },
  {
   "cell_type": "markdown",
   "metadata": {},
   "source": [
    "Innehåll\n",
    "---\n",
    "\n",
    "- [Förra passet](#last)\n",
    "- [Funktioner forts](#funktionr)\n",
    "- [Turtlegrafik](#turtle)\n",
    "- [Lektionsuppgift](#uppgift)\n",
    "- [Nästa pass](#nasta)"
   ]
  },
  {
   "cell_type": "markdown",
   "metadata": {},
   "source": [
    "**Block2:**\n",
    "- Listor och tipplar\n",
    "- Funktioner\n",
    "- Sköldpaddsgrafik\n",
    "- Slumptal\n",
    "- Klasser och objekt\n",
    "- Användargränssnitt\n"
   ]
  },
  {
   "cell_type": "markdown",
   "metadata": {},
   "source": [
    "<a name='last'></a>Förra passet\n",
    "---"
   ]
  },
  {
   "cell_type": "code",
   "execution_count": 13,
   "metadata": {
    "collapsed": false
   },
   "outputs": [
    {
     "name": "stdout",
     "output_type": "stream",
     "text": [
      "[16, 25, 36, 49, 64, 81, 100, 121, 144, 169, 196, 225, 256, 289, 324, 361]\n",
      "16\n"
     ]
    }
   ],
   "source": [
    "from random import *\n",
    "\n",
    "#exempel\n",
    "#skriv en funktion som hittar minsta talet i en lista\n",
    "#och gör ett aktivitetsdiagram\n",
    "def min_lista (lista):\n",
    "    minimum = lista[0]\n",
    "    for n in lista:\n",
    "        if(minimum > n):\n",
    "            minimum = n\n",
    "    return minimum\n",
    "\n",
    "#list comprehensions\n",
    "listan = [tal**2 for tal in range(4,20)]\n",
    "\n",
    "listan = [randint(0,80) for tal in range(20)]\n",
    "print(listan)\n",
    "minsta_talet = min_lista(listan)\n",
    "print(minsta_talet)"
   ]
  },
  {
   "cell_type": "markdown",
   "metadata": {},
   "source": [
    "<a name='funktioner'></a>Funktioner forts\n",
    "---\n",
    "\n",
    "Dagens pass fortsätter med kap 10 och en del av kap 13\n",
    "Uppgifter:\n",
    "- Gör färdigt uppgifterna till kap 10 i övningsboken och läroboken.\n",
    "- Uppgifterna till kap 13 (1, 2 och 3)"
   ]
  },
  {
   "cell_type": "markdown",
   "metadata": {},
   "source": [
    "<a name='turtle'></a>Turtlegrafik\n",
    "---\n",
    "\n",
    "https://docs.python.org/3.0/library/turtle.html\n",
    "\n",
    "En sköldpadda har följande egenskaper:\n",
    "- Penna (Up eller ner) (True or false)\n",
    "- Hastighet (0-20) (Högsta hastigheten är noll)\n",
    "- Riktning som anges i grader (0 -360) 0 är rakt till höger\n",
    "\n",
    "I biblioteket till turtle finns bla a följande funktioner\n",
    "\n",
    "    forward(sträcka)\n",
    "    fd(sträcka)\n",
    "    \n",
    "    back(sträcka)\n",
    "    bk(sträcka)\n",
    "    \n",
    "    penup()\n",
    "    pu()\n",
    "    \n",
    "    hideturtle()\n",
    "    showturtle()\n",
    "    \n",
    "    left(grader)\n",
    "    right(grader)\n",
    "    \n",
    "    goto(x,y)\n",
    "    setpos(x,y)\n",
    "    position()\n",
    "    speed()\n",
    "    pencolor()\n",
    "    bgcolor()\n",
    "    \n",
    "    dot()\n",
    "    \n",
    "    screensize()\n",
    "    \n",
    "    delay()\n",
    "    tracer()\n",
    "    update()\n",
    "    \n",
    "    begin_fill()\n",
    "    end_fill()\n",
    "    \n",
    "    clear()\n",
    "    done()\n",
    "    bye()"
   ]
  },
  {
   "cell_type": "code",
   "execution_count": 15,
   "metadata": {
    "collapsed": false
   },
   "outputs": [],
   "source": [
    "from turtle import *\n",
    "#600 pixlar bred och 600 hög\n",
    "setup(600, 600) \n",
    "#Anger bakgrundsfärgen kan anges som RGB (0,0,0)(#FFFFFF)\n",
    "#bgcolor('grey')\n",
    "#Färgen på pennan\n",
    "pencolor('blue')\n",
    "speed(1)\n",
    "def rektangel(a,b,deg):\n",
    "    #Sparar den ursprungliga riktningen\n",
    "    head = heading()\n",
    "    setheading(deg)\n",
    "    fd(a)\n",
    "    right(90)\n",
    "    fd(b)\n",
    "    right(90)\n",
    "    fd(a)\n",
    "    right(90)\n",
    "    fd(b)\n",
    "    setheading(head)\n",
    "    \n",
    "def fylld_rektangel(a,b,deg):\n",
    "    #Sparar den ursprungliga riktningen\n",
    "    head = heading()\n",
    "    setheading(deg)\n",
    "    begin_fill()\n",
    "    fd(a)\n",
    "    right(90)\n",
    "    fd(b)\n",
    "    right(90)\n",
    "    fd(a)\n",
    "    right(90)\n",
    "    fd(b)\n",
    "    end_fill()\n",
    "    setheading(head)\n",
    "\n",
    "goto(150,150)\n",
    "fylld_rektangel(100, 50, 30)\n",
    "done()"
   ]
  },
  {
   "cell_type": "markdown",
   "metadata": {},
   "source": [
    "<a name='uppgift'></a>Lektionsuppgift\n",
    "---\n",
    "\n",
    "Uppgift 11.2 a) i arbetsboken\n",
    "Nedanstående uppgift lämnas in via facebook:\n",
    "- Skriv en funktion som skriver ut en stryktipsrad med 1, x, 2.\n",
    "- Gör ett aktivitetsdiagram på papper och scanna in på en skrivare.\n",
    "- Lägg in kod och bild i ett word-dokument och skicka in."
   ]
  },
  {
   "cell_type": "markdown",
   "metadata": {},
   "source": [
    "<a name='nasta'></a>Nästa pass\n",
    "---\n",
    "\n"
   ]
  },
  {
   "cell_type": "code",
   "execution_count": 5,
   "metadata": {
    "collapsed": false
   },
   "outputs": [],
   "source": []
  }
 ],
 "metadata": {
  "kernelspec": {
   "display_name": "Python 3",
   "language": "python",
   "name": "python3"
  },
  "language_info": {
   "codemirror_mode": {
    "name": "ipython",
    "version": 3
   },
   "file_extension": ".py",
   "mimetype": "text/x-python",
   "name": "python",
   "nbconvert_exporter": "python",
   "pygments_lexer": "ipython3",
   "version": "3.4.2"
  }
 },
 "nbformat": 4,
 "nbformat_minor": 0
}
