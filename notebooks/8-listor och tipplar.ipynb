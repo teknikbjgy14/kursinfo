{
 "cells": [
  {
   "cell_type": "markdown",
   "metadata": {},
   "source": [
    "Listor och Tipplar\n",
    "===\n",
    "\n",
    "Dagens pass:\n",
    "\n",
    "- Kap 9 s. 103 - 112\n",
    "- Kap 17 s. 179 - 183\n",
    "- listor\n",
    "- tipplar\n",
    "- dictionaries\n",
    "\n",
    "Uppgifter (Arbetsboken): \n",
    "\n",
    "- 9.1,3,5*\n",
    "- Använd list comprehensions för att skapa en lista med 10 element bestående av:\n",
    "    - nedstigande ordning\n",
    "    - kubiska tal\n",
    "    - tal som har en rest 4 med divition med ett valfritt tal\n",
    "    \n",
    "Listor\n",
    "---\n",
    "\n",
    "    lista = [item1, item2, item3]\n",
    "\n",
    "mutable & immutable\n",
    "Föränderlig\n",
    "\n",
    "Oföränderlig\n",
    "\n",
    "list-metoder\n",
    "\n",
    "- len()\n",
    "- .append()\n",
    "- .extend(list2)\n",
    "- .remove(x)\n",
    "- .index(x)\n",
    "- .count(x)\n",
    "- .join() OBS strängmetod\n",
    "\n",
    "- Iteration av listor (med och utan index)\n",
    "- Slice av listor\n",
    "- .split(x)\n",
    "\n",
    "Dictionaries\n",
    "---\n",
    "\n",
    "Strängindexerade variabler (osorterad)\n",
    "\n",
    "    dict = {key1: item1, key2: item2}\n",
    "\n",
    "Metoder\n",
    "\n",
    "- .items()\n",
    "- .keys()\n",
    "- .values()"
   ]
  },
  {
   "cell_type": "code",
   "execution_count": 3,
   "metadata": {
    "collapsed": false
   },
   "outputs": [
    {
     "name": "stdout",
     "output_type": "stream",
     "text": [
      "[1, 5, 'b']\n"
     ]
    }
   ],
   "source": [
    "#En lista kan skapas genom att använda []\n",
    "a = 5\n",
    "\n",
    "lista = [1, a, 'b']\n",
    "print(lista)"
   ]
  },
  {
   "cell_type": "code",
   "execution_count": 4,
   "metadata": {
    "collapsed": false
   },
   "outputs": [
    {
     "name": "stdout",
     "output_type": "stream",
     "text": [
      "e\n"
     ]
    }
   ],
   "source": [
    "#I en sträng kommer vi åt elementet på plats 5 genom:\n",
    "string = 'Kalle Anka'\n",
    "print(string[4])"
   ]
  },
  {
   "cell_type": "code",
   "execution_count": 8,
   "metadata": {
    "collapsed": false
   },
   "outputs": [
    {
     "name": "stdout",
     "output_type": "stream",
     "text": [
      "b\n"
     ]
    }
   ],
   "source": [
    "#I en lista kommer vi åt elementet på plats 3 genom:\n",
    "print(lista[2])"
   ]
  },
  {
   "cell_type": "code",
   "execution_count": 26,
   "metadata": {
    "collapsed": false
   },
   "outputs": [
    {
     "name": "stdout",
     "output_type": "stream",
     "text": [
      "3\n",
      "[1, 5, 'b', 7]\n",
      "[1, 'hej', 5, 'b', 7]\n"
     ]
    }
   ],
   "source": [
    "#vanliga operationer på listor; len(), append(element), pop(index), insert(index, element)\n",
    "#längd på en lista\n",
    "lista = [1, a, 'b']\n",
    "print(len(lista))\n",
    "#lägger till ett elemnt i slutet\n",
    "lista.append(7)\n",
    "print(lista)\n",
    "#insert\n",
    "lista.insert(1, 'hej')\n",
    "print(lista)"
   ]
  },
  {
   "cell_type": "code",
   "execution_count": 27,
   "metadata": {
    "collapsed": false
   },
   "outputs": [
    {
     "name": "stdout",
     "output_type": "stream",
     "text": [
      "1\n",
      "hej\n",
      "5\n",
      "b\n",
      "7\n"
     ]
    }
   ],
   "source": [
    "#stega igenom en lista\n",
    "for n in lista:\n",
    "    print(n)"
   ]
  },
  {
   "cell_type": "code",
   "execution_count": 35,
   "metadata": {
    "collapsed": false
   },
   "outputs": [
    {
     "name": "stdout",
     "output_type": "stream",
     "text": [
      "[1, 2, 3, 4, 5]\n",
      "[1, 3, 2, 4, 5]\n",
      "[1, 3, 2, 4, 5]\n"
     ]
    }
   ],
   "source": [
    "#byt plats på två element. 2 och 3\n",
    "lista = [1, 2, 3, 4, 5]\n",
    "#index   0  1  2  3  4\n",
    "lista2 = lista\n",
    "print(lista)\n",
    "temp = lista[2]\n",
    "lista[2] = lista[1]\n",
    "lista[1] = temp\n",
    "print(lista)\n",
    "print(lista2)"
   ]
  },
  {
   "cell_type": "markdown",
   "metadata": {},
   "source": [
    "Tupples\n",
    "---"
   ]
  },
  {
   "cell_type": "code",
   "execution_count": 36,
   "metadata": {
    "collapsed": false
   },
   "outputs": [],
   "source": [
    "#lista är immutable (den går inte att ändra)\n",
    "tupel = (1, 2, 3, 4, 5)"
   ]
  },
  {
   "cell_type": "code",
   "execution_count": 43,
   "metadata": {
    "collapsed": false
   },
   "outputs": [
    {
     "name": "stdout",
     "output_type": "stream",
     "text": [
      "(1, 2, 3, 4, 5, 1, 2)\n"
     ]
    }
   ],
   "source": [
    "tupel = (1, 2, 3, 4, 5)\n",
    "tupel +=  (1, 2)\n",
    "print(tupel)"
   ]
  },
  {
   "cell_type": "code",
   "execution_count": 44,
   "metadata": {
    "collapsed": false
   },
   "outputs": [
    {
     "name": "stdout",
     "output_type": "stream",
     "text": [
      "1 [1]\n"
     ]
    }
   ],
   "source": [
    "heltal = 1\n",
    "lista = [1]\n",
    "print(heltal, lista)"
   ]
  },
  {
   "cell_type": "code",
   "execution_count": null,
   "metadata": {
    "collapsed": false
   },
   "outputs": [],
   "source": []
  }
 ],
 "metadata": {
  "kernelspec": {
   "display_name": "Python 3",
   "language": "python",
   "name": "python3"
  },
  "language_info": {
   "codemirror_mode": {
    "name": "ipython",
    "version": 3
   },
   "file_extension": ".py",
   "mimetype": "text/x-python",
   "name": "python",
   "nbconvert_exporter": "python",
   "pygments_lexer": "ipython3",
   "version": "3.4.3"
  }
 },
 "nbformat": 4,
 "nbformat_minor": 0
}
