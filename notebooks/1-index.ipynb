{
 "metadata": {
  "name": "",
  "signature": "sha256:d0c40f57993b9084f4942240be212c4f94672228f812d414d8d46c9ad79e6815"
 },
 "nbformat": 3,
 "nbformat_minor": 0,
 "worksheets": [
  {
   "cells": [
    {
     "cell_type": "markdown",
     "metadata": {},
     "source": [
      "Programmering - Introduktion till Python3\n",
      "===\n",
      "\n",
      "Nedan finns kort beskrivet vad ett program och programmering inneb\u00e4r. Vidare finns en beskrivning f\u00f6r hur Python 3 enklast installeras p\u00e5 en dator med windows som operativsystem."
     ]
    },
    {
     "cell_type": "markdown",
     "metadata": {},
     "source": [
      "Inneh\u00e5ll\n",
      "---\n",
      "\n",
      "- [Vad \u00e4r ett program](#program)\n",
      "- [Historik](#historik)\n",
      "- [Programmeringsspr\u00e5k](#programmeringsspr\u00e5k)\n",
      "- [Kompilering](#kompilering)\n",
      "- [K\u00f6rmilj\u00f6er](#kormilj\u00f6er)\n",
      "- [Programmeringsmilj\u00f6er](#programmering)\n",
      "- [Hur blir man en bra programmerare?](#programmerare)\n",
      "- [Installera Python 3](#installera)\n",
      "- [Ditt f\u00f6rsta program](#forsta)\n",
      "\n",
      "---"
     ]
    },
    {
     "cell_type": "markdown",
     "metadata": {},
     "source": [
      "<a name='program'></a>Vad \u00e4r ett program?\n",
      "---\n",
      "\n",
      "Ett program kan ses som en serie instruktioner som en dator utf\u00f6r steg f\u00f6r steg.\n",
      "\n",
      "---"
     ]
    },
    {
     "cell_type": "markdown",
     "metadata": {},
     "source": [
      "<a name='historik'></a>Historik\n",
      "---\n",
      "\n",
      "[Eniac](images/eniac.jpg)\n",
      "\n",
      "[H\u00e5lkort](images/halkort.jpg)\n",
      "\n",
      "[Magnetband](images/magnetband.jpg)\n",
      "\n",
      "---"
     ]
    },
    {
     "cell_type": "markdown",
     "metadata": {},
     "source": [
      "<a name='programmeringsspr\u00e5k'></a>Programmeringsspr\u00e5k\n",
      "---\n",
      "\n",
      "**L\u00e5gniv\u00e5spr\u00e5k**\n",
      "\n",
      "- Assembler (Kompilatorer)\n",
      "\n",
      "\n",
      "**H\u00f6gniv\u00e5spr\u00e5k**\n",
      "\n",
      "- COBOL (banksektorn)\n",
      "- C (drivrutiner, vet ber\u00e4kningar)\n",
      "- C++ (Program, Spel m.m)\n",
      "- C# (Windows-program)\n",
      "- Objective-C (Mac-program samt Ipad och Iphone-appar)\n",
      "- Java (Det kanske mest anv\u00e4nda programmeringsspr\u00e5ket, alltifr\u00e5n DVD-spelare till Android-appar)\n",
      "- Javascript (Webbsidor)\n",
      "- Ruby (Webservrar)\n",
      "- PHP (Webservrar)\n",
      "- Python\n",
      "\n",
      "\n",
      "\n",
      "- olika typer av programmerare\n",
      "    - drivrutinsutvecklare\n",
      "    - webbutvecklare\n",
      "    - mjukvaruutvecklare\n",
      "    \n",
      "---"
     ]
    },
    {
     "cell_type": "markdown",
     "metadata": {},
     "source": [
      "<a name='kompilering'></a>Kompilering\n",
      "---\n",
      "\n",
      "Programmeringsprocessen fr\u00e5n kod till f\u00e4rdigt program sker vanligast i flera steg. Beroende p\u00e5 vilket programmeringsspr\u00e5k som anv\u00e4nds.\n",
      "\n",
      "**Kompilerade program**\n",
      "\n",
      "- **K\u00e4llkod** --> (*kompilering*) --> **Maskinkod**\n",
      "- F\u00f6rst skrivs **k\u00e4llkod**, detta \u00e4r vanlig text som sparas i en ren text-fil (ASCII-fil).\n",
      "- K\u00e4llkoden **kompileras** \u00f6vers\u00e4tts till maskinkod (ettor och nollor) av ett program som kallas **kompilator**.\n",
      "- N\u00e5gra spr\u00e5k som anv\u00e4nder sig av denna process \u00e4r C, C++, Objective-C.\n",
      "\n",
      "\n",
      "**Interpreterade program**\n",
      "\n",
      "- **K\u00e4llkod** --> (**) --> **Bytekod** --> (*l\u00e4nkning*) --> **Maskinkod**\n",
      "- K\u00e4llkod omvandlas till bytekod eller objektkod\n",
      "- En tolk eller interpretator omvandlar objektkoden till maskinkod\n",
      "- Denna process kan antingen ske vid ett tillf\u00e4lle eller vid tv\u00e5 skilda tillf\u00e4llen(halv-kompilerade program)\n",
      "- N\u00e5gra olika spr\u00e5k som anv\u00e4nder sig av denna process \u00e4r Java (halv-kompilerat) och Python (Interpreterat)\n",
      "\n",
      "---"
     ]
    },
    {
     "cell_type": "markdown",
     "metadata": {},
     "source": [
      "K\u00e4llkod\n",
      "---\n",
      "\n",
      "K\u00e4llkod, den text som vi skriver och som kommer att omvandlas till n\u00e5got datorn f\u00f6rst\u00e5r \u00e4r alltid skrivet i en oformatterad textfil (ren text). Filen kan ha olika fil\u00e4ndelser men \u00e4r alltid en oformaterad textfil i grunden. Texten \u00e4r kodad enligt den s\u00e5 kallade asci tabellen (mer om den senare). Filerna kan k\u00e4nnas igen genom att de g\u00e5r att \u00f6ppna i programmet Anteckningar."
     ]
    },
    {
     "cell_type": "markdown",
     "metadata": {},
     "source": [
      "<a name='kormilj\u00f6er'></a>K\u00f6rmilj\u00f6er\n",
      "---\n",
      "\n",
      "Olika programmeringsspr\u00e5k kr\u00e4ver olika milj\u00f6er f\u00f6r att kunna kompileras och k\u00f6ras.\n",
      "\n",
      "Operativsystem:\n",
      "- Windows\n",
      "- Mac\n",
      "- Unix/Linux\n",
      "\n",
      "---"
     ]
    },
    {
     "cell_type": "markdown",
     "metadata": {},
     "source": [
      "<a name='programmering'></a>Programmeringsmilj\u00f6er\n",
      "---\n",
      "\n",
      "F\u00f6r att kunna programmera kr\u00e4v endast att det p\u00e5 datorn finns:\n",
      "\n",
      "- En textredigerare (en bra textredigerare inneh\u00e5ller st\u00f6d f\u00f6r syntax-higlightning, code-completion, kan k\u00f6ra koden sj\u00e4lv samt har st\u00f6d f\u00f6r det spr\u00e5k man skriver i)\n",
      "- En kompilator eller interpreterare\n",
      "\n",
      "eller\n",
      "\n",
      "- En **IDE** (Integrated development environment) F\u00f6r att f\u00f6renkla programmeringsprocessen har det skrivits program som anv\u00e4nds f\u00f6r att skriva andra program. Dessa kallas f\u00f6r IDE. Dessa inneh\u00e5ller vanligtvis en textredigerare samt andra funktioner t.ex. em debugger f\u00f6r att f\u00f6renkla processen att skriva program.\n",
      "\n",
      "---"
     ]
    },
    {
     "cell_type": "markdown",
     "metadata": {},
     "source": [
      "<a name='programmerare'></a>Hur blir man en bra programmerare?\n",
      "---\n",
      "\n",
      "En bra programmerare:\n",
      "\n",
      "- Kan ett flertal programmeringsspr\u00e5k av olika typer\n",
      "- Skriver l\u00e4sbar kod. (En tumregel \u00e4r att 10 % av tiden skrivs kod, 90 % fels\u00f6ks koden)\n",
      "- T\u00e4nk p\u00e5 att en rad kod som skrivs och sedan anv\u00e4nds m\u00e5ste n\u00e5gon g\u00e5ng i framtiden underh\u00e5llas.\n",
      "- Har skrivit mycket kod och egna program (Programmering \u00e4r ett praktisk \u00e4mne som det \u00e4r sv\u00e5rt att l\u00e4sa sig till)\n",
      "- Har mycket erfarenhet (Vanligtvis tar det minst fem \u00e5r innan man \u00e4r en skicklig programmerare)\n",
      "- Planerar programmet i f\u00f6rv\u00e4g ist\u00e4llet f\u00f6r att skriva on\u00f6dig kod.\n",
      "\n",
      "---"
     ]
    },
    {
     "cell_type": "markdown",
     "metadata": {},
     "source": [
      "<a name='installera'></a>Installera Python 3\n",
      "---\n",
      "\n",
      "I kursen kommer vi att anv\u00e4nda ett paket som inneh\u00e5ller python samt en del andra till\u00e4gg. Skrivandet av kod kommer att ske p\u00e5 tv\u00e5 s\u00e4tt:\n",
      "\n",
      "- f\u00f6rsta delen av kursen anv\u00e4nds ipython notebooks.\n",
      "- sedan i Spyder IDE.\n",
      "\n",
      "Genomf\u00f6r f\u00f6ljande f\u00f6r att f\u00e5 en fungerande version p\u00e5 din dator:\n",
      "\n",
      "- Ladda ner gratispaketet [Anaconda](https://store.continuum.io/cshop/anaconda/), var nogrann med att det \u00e4r Python 3.4 som v\u00e4ljs.\n",
      "- Ladda ner [Ninja](http://ninja-ide.org)\n",
      "- St\u00e4ll in Ninja s\u00e5 att programmet hittar Python installationen\n",
      "\n",
      "F\u00f6r att st\u00e4lla in ipython notebooks:\n",
      "\n",
      "- Leta upp Ipython notebooks i Anaconda-paketet i start-meny\n",
      "- Skapa en genv\u00e4g till Ipython notebooks p\u00e5 Skrivbordet\n",
      "- V\u00e4lj egenskaper p\u00e5 genv\u00e4gen\n",
      "- I f\u00e4ltet starta i m\u00e5lmapp. Skriv in den mapp som kommer att inneh\u00e5lla anteckningsb\u00f6ckerna, ex. `c:\\user\\python-notebooks`.\n",
      "\n",
      "---"
     ]
    },
    {
     "cell_type": "markdown",
     "metadata": {},
     "source": [
      "<a name='forsta'></a>Ditt f\u00f6rsta program\n",
      "---\n",
      "\n",
      "Det f\u00f6rsta programmet alla brukar skriva \u00e4r ett *Hello World*-program. Det programmet g\u00f6r \u00e4r att den skriver ut texten *Hello World*. \n",
      "\n",
      "Skriv i en code-cell\n",
      "\n",
      "```python\n",
      "    print(\"Hello World\")\n",
      "```\n",
      "\n"
     ]
    },
    {
     "cell_type": "code",
     "collapsed": false,
     "input": [
      "print(\"Hello World\")"
     ],
     "language": "python",
     "metadata": {},
     "outputs": [
      {
       "output_type": "stream",
       "stream": "stdout",
       "text": [
        "Hello World\n"
       ]
      }
     ],
     "prompt_number": 3
    },
    {
     "cell_type": "code",
     "collapsed": false,
     "input": [],
     "language": "python",
     "metadata": {},
     "outputs": []
    }
   ],
   "metadata": {}
  }
 ]
}