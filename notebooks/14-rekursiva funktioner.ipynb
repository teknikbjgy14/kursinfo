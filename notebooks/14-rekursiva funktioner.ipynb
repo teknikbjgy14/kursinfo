{
 "cells": [
  {
   "cell_type": "markdown",
   "metadata": {},
   "source": [
    "Rekursiva funktioner\n",
    "===\n",
    "\n",
    "Dagens uppgifter: Uppgift 14.1 - 14.4\n",
    "\n",
    "\n",
    "####KAP 14\n",
    "\n",
    "En rekursiv funktion är en funktion som anropar sig själv. Rekursiva funktioner kan ersätta en loop och är i många fall enklare att skriva. Nackdelen är att en rekursiv funktion upptar snabbt mycket minne och kan vara långsammare att köra.\n",
    "\n",
    "    \"\"\"The power of recursion evidently lies in the possibility of defining an infinite set of objects by a finite statement. In the same manner, an infinite number of computations can be described by a finite recursive program, even if this program contains no explicit repetitions\"\"\"\n",
    "\n",
    "\n",
    "Typiska användningar av en rekursiv funktion är:\n",
    "\n",
    "- Beräkningar av heltal som löper igenom en talföljd\n",
    "- Loopar\n",
    "- Sortering av listor\n",
    "- Uppritningar av regelbundna former (fraktaler)\n",
    "- Vända på en sträng\n",
    "\n",
    "\n",
    "Ett problem kan beskrivas rekursivt om det kan delas upp i mindre delar, en del som är löst samt en enklare variant av grundproblemet.\n",
    "\n",
    "En rekursiv funktion består av två delar.\n",
    "\n",
    "- Basfallet (-steget): som inte refererar till funktionen självt. Basfallet är för det villkor som funktionen avbryts.\n",
    "- Rekursionsfallet (-steget): Rekursionsteget är en förenklat fall då funktionen utför sin uppgift och delar upp problemet i en mindre delar som går att lösa.\n",
    "\n",
    "\n",
    "\n",
    "En typisk rekursiv funktion har följande utseende\n",
    "\n",
    "    def recursive(n):\n",
    "        if(n == 1):\n",
    "            #Basfallet\n",
    "        else:\n",
    "            #Rekursionssteget\n",
    "            recursive(n-1)\n",
    "            \n",
    "    "
   ]
  },
  {
   "cell_type": "markdown",
   "metadata": {},
   "source": [
    "###Exempel 1:"
   ]
  },
  {
   "cell_type": "code",
   "execution_count": 18,
   "metadata": {
    "collapsed": false
   },
   "outputs": [
    {
     "name": "stdout",
     "output_type": "stream",
     "text": [
      "1\n",
      "2\n",
      "3\n",
      "4\n",
      "5\n",
      "6\n",
      "7\n",
      "8\n",
      "9\n",
      "10\n"
     ]
    }
   ],
   "source": [
    "#En funktion som räknar uppåt till ett angivet nummer\n",
    "def count_up(n):\n",
    "    if (n > 1):\n",
    "        count_up(n - 1)\n",
    "    print(n)\n",
    "\n",
    "count_up(10)"
   ]
  },
  {
   "cell_type": "markdown",
   "metadata": {},
   "source": [
    "###Exempel 2:\n",
    "**Fackultets beräkning**\n",
    "n! uttalas n-fackultet och innebär att man beräknar\n",
    "\n",
    "    n! = n * (n-1) * (n-2) * ... * 2 * 1\n",
    "\n",
    "exempel\n",
    "\n",
    "    5! = 5 * 4 * 3 * 2 * 1 = 120\n",
    "    5 * 4! = 5 * 4 * 3! = 5 * 4 * 3 *2! = 120\n",
    "\n",
    "Rekursivt anges detta som\n",
    "\n",
    "    Basfallet:\n",
    "        om n == 1 så är\n",
    "            n! = 1\n",
    "    Rekursionsfallet:\n",
    "        annars är\n",
    "            n! = n * (n-1)!"
   ]
  },
  {
   "cell_type": "code",
   "execution_count": 7,
   "metadata": {
    "collapsed": false
   },
   "outputs": [
    {
     "name": "stdout",
     "output_type": "stream",
     "text": [
      "5\n",
      "4\n",
      "3\n",
      "2\n",
      "1\n",
      "120\n"
     ]
    }
   ],
   "source": [
    "#En rekursiv implementering\n",
    "\n",
    "def fackultet_rekursion(n):\n",
    "    if (n == 1):\n",
    "        #print(1)\n",
    "        return 1\n",
    "    else:\n",
    "        #print(n)\n",
    "        return fackultet_rekursion(n - 1) * n\n",
    "\n",
    "print(fackultet_rekursion(5))"
   ]
  }
 ],
 "metadata": {
  "kernelspec": {
   "display_name": "Python 3",
   "language": "python",
   "name": "python3"
  },
  "language_info": {
   "codemirror_mode": {
    "name": "ipython",
    "version": 3
   },
   "file_extension": ".py",
   "mimetype": "text/x-python",
   "name": "python",
   "nbconvert_exporter": "python",
   "pygments_lexer": "ipython3",
   "version": "3.4.3"
  }
 },
 "nbformat": 4,
 "nbformat_minor": 0
}
