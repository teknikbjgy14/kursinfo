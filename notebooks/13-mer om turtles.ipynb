{
 "cells": [
  {
   "cell_type": "markdown",
   "metadata": {},
   "source": [
    "Mer Sköldpaddsgrafik\n",
    "===\n",
    "\n"
   ]
  },
  {
   "cell_type": "markdown",
   "metadata": {},
   "source": [
    "Innehåll\n",
    "---\n",
    "\n",
    "- **Metoderna (screen-metoder):**\n",
    "    - onscreenclick\n",
    "    - onscreen\n",
    "    - ontimer\n",
    "    - onkey\n",
    "    \n",
    "- **Spell-hantering**\n",
    "    - spelloop\n",
    "    - game over-villkor"
   ]
  },
  {
   "cell_type": "markdown",
   "metadata": {},
   "source": [
    "<a name='klasser'></a>Klasser och objekt\n",
    "---\n",
    "\n",
    "De flesta moderna programmeringsspråk är objektiorienterande. Med det menas att allt som hanteras i språket är egentligen objekt. Objektorienterad programmering handlar om att bryta ner alla uppgifter till objekt, tillstånd med tillhörande metoder\n",
    "\n",
    "\n",
    "**Exempel**\n",
    "\n",
    "    #Objektet/datstrukturen 'Kalle Anka' har namnet/referensen string1 och är av typen String.\n",
    "    string1 = 'Kalle Anka'\n",
    "\n",
    "    #Funktionen len körs på objektet med namn string1\n",
    "    len(string1)\n",
    "    \n",
    "    #Metoden lower som tillhör klassen string körs på objektet med namn string1\n",
    "    string1.lower()\n",
    "\n",
    "Funktioner behöver inte vara kopplade till ett objekt.\n",
    "Metoder är alltid kopplade till ett objekt.\n",
    "\n",
    "Fråga är nedanstående en metod eller en funktion\n",
    "\n",
    "    Random.randint()\n",
    "\n",
    "**argument vs parameter**\n",
    "\n",
    "**. - operatorn**\n",
    "\n",
    ".-operatorn tillåter åtkomst av konstanter/funktioner/metoder i objekt/moduler m.m.\n",
    "\n",
    "\n",
    "**Objekt** i programmering är ofta kopplade till något verkligt objekt.\n",
    "\n",
    "Ett objekt är en instans av en klass. Ett objekt har instansvariabler. Instansvariabler anger egenskaper hos objektet.\n",
    "\n",
    "Att skapa ett objekt av en klass kallas att instansiera objektet.\n",
    "\n"
   ]
  },
  {
   "cell_type": "markdown",
   "metadata": {},
   "source": [
    "<a name='modeller'></a>Spel och modellering\n",
    "---\n",
    "\n",
    "Spel/program är i allmänhet inte sekventiella.\n",
    "\n",
    "Händelse-baserade( Event driven)\n",
    "---\n",
    "\n",
    "Programmet väntar på en händelse från använderen. Beroende på vilken händelse det är reagerar den på olika sätt.\n",
    "\n",
    "Spel-loop\n",
    "---\n",
    "\n",
    "Ett spel brukar bestå av en spel-loop. Spelet är slut när något vilkor är uppfyllt och spelet avslutas."
   ]
  },
  {
   "cell_type": "code",
   "execution_count": 5,
   "metadata": {
    "collapsed": false
   },
   "outputs": [],
   "source": [
    "from turtle import *\n",
    "\n",
    "setup(600,600)\n",
    "setworldcoordinates(0,0,10,10)\n",
    "t = Turtle()\n",
    "\n",
    "def down1():\n",
    "    t.setheading(270)\n",
    "    t.forward(2)\n",
    "\n",
    "game_on = True\n",
    "\n",
    "onscreenclick(goto)\n",
    "\n",
    "ontimer(down1,500)\n",
    "\n",
    "done()"
   ]
  }
 ],
 "metadata": {
  "kernelspec": {
   "display_name": "Python 3",
   "language": "python",
   "name": "python3"
  },
  "language_info": {
   "codemirror_mode": {
    "name": "ipython",
    "version": 3
   },
   "file_extension": ".py",
   "mimetype": "text/x-python",
   "name": "python",
   "nbconvert_exporter": "python",
   "pygments_lexer": "ipython3",
   "version": "3.4.3"
  }
 },
 "nbformat": 4,
 "nbformat_minor": 0
}
