{
 "cells": [
  {
   "cell_type": "markdown",
   "metadata": {},
   "source": [
    "Sökning och sortering\n",
    "==="
   ]
  },
  {
   "cell_type": "markdown",
   "metadata": {},
   "source": [
    "Tidigare\n",
    "---\n",
    "\n",
    "- Linjär sökning\n",
    "- binär sökning"
   ]
  },
  {
   "cell_type": "markdown",
   "metadata": {},
   "source": [
    "Komplexitet\n",
    "---\n",
    "\n",
    "Ett sätt att beskriva hur effektivt ett dataprogram är att använda ordo-beräkning:\n",
    "\n",
    "O(n) där n är antalet data som skickas in i programmet\n",
    "\n",
    "Ex\n",
    "\n",
    "- O(n) \t =>\tantalet beräkningar ökar proportionellt mot antalet \t\t\t\tdata ( ok )\n",
    "- O(n^2)   => \tantalet beräkningar ökar kvadratiskt mot antalet \t\t\t\tdata ( mindre bra )\n",
    "- O(n^3) \t =>\tantalet beräkningar ökar kubiskt mot antalet data   \t\t\t\t( dåligt )\n",
    "- O(log n) => \tantalet beräkningar ökar logaritmiskt mot antalet \t\t\t\tdata ( mycket bra )\n"
   ]
  },
  {
   "cell_type": "markdown",
   "metadata": {},
   "source": []
  },
  {
   "cell_type": "code",
   "execution_count": 12,
   "metadata": {
    "collapsed": false
   },
   "outputs": [
    {
     "name": "stdout",
     "output_type": "stream",
     "text": [
      "None\n",
      "-1\n"
     ]
    }
   ],
   "source": [
    "#Linjär sökning\n",
    "# Komplexiteten i medel är O(n/2)\n",
    "import random\n",
    "lista = []\n",
    "\n",
    "for n in range(10):\n",
    "    lista.append(random.randint(0,50))\n",
    "    \n",
    "print(lista)\n",
    "\n",
    "def linear(listig, m):\n",
    "    for n in range(len(listig)):\n",
    "        if(listig[n] == m):\n",
    "            return n\n",
    "    return -1\n",
    "\n",
    "print(linear(lista, 32))"
   ]
  },
  {
   "cell_type": "markdown",
   "metadata": {},
   "source": [
    "Sortering\n",
    "---\n",
    "\n",
    "Det finns ett antal olika sorteringsalgoritmer. Ni behöver kunna beskriva bubbelsortering och för högre betyg även en till sorteringsalgoritm. Tidskomplexiteten för de tre första är O(n^2), sortering är alltså en väldigt tidskrävande operation.\n",
    "\n",
    "### Bubbelsortering\n",
    "\n",
    "Se powerpoint.\n",
    "Det största talet bubblar upp till sista plats sedan söks listan igenom igenom och processen återupprepas tills listan är sorterad.\n",
    "\n",
    "### Urvalssortering\n",
    "\n",
    "Urvalssortering går ut på att listan sök igenom efter det minsta värdet. Värdet flyttas sedan längst fram i listan. Listan söks sedan igenom efter nästa värde som flyttas näst längst fram. Detta upprepas fram till att hela listan är sorterad.\n",
    "\n",
    "### Inssticksortering\n",
    "\n",
    "Ett element åt gången sätts in och jämförs med redan sorterade element.\n",
    "\n",
    "### Quicksort och Heapsort\n",
    "\n",
    "Det finns effektivare sorteringar bl a quicksort och heapsort. Den sorteringsalgoritm som finns implementerad i python är en variant av ovanstående. Tidskomplexiteten är O(n * log n) vilket är en mycket effektiv sortering."
   ]
  },
  {
   "cell_type": "code",
   "execution_count": null,
   "metadata": {
    "collapsed": false
   },
   "outputs": [],
   "source": []
  }
 ],
 "metadata": {
  "kernelspec": {
   "display_name": "Python 3",
   "language": "python",
   "name": "python3"
  },
  "language_info": {
   "codemirror_mode": {
    "name": "ipython",
    "version": 3
   },
   "file_extension": ".py",
   "mimetype": "text/x-python",
   "name": "python",
   "nbconvert_exporter": "python",
   "pygments_lexer": "ipython3",
   "version": "3.4.3"
  }
 },
 "nbformat": 4,
 "nbformat_minor": 0
}
