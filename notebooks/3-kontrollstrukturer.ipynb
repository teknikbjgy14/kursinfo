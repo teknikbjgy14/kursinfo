{
 "cells": [
  {
   "cell_type": "markdown",
   "metadata": {
    "slideshow": {
     "slide_type": "slide"
    }
   },
   "source": [
    "Kontrollstrukturer\n",
    "===\n",
    "\n",
    "Avsnitt i boken:\n",
    "Kap 3 och 4\n",
    "\n",
    "Moduler i CodeAcademy:\n",
    "\n",
    "Conditionals and control flow\n",
    "- Conditionals and control flow\n",
    "- PygLatin\n",
    "\n",
    "Under denna lektion skall vi titta närmare på:"
   ]
  },
  {
   "cell_type": "markdown",
   "metadata": {
    "slideshow": {
     "slide_type": "fragment"
    }
   },
   "source": [
    "Innehåll\n",
    "---\n",
    "\n",
    "- [Förra passet](#last)\n",
    "- [Mer om strängar](#strings)\n",
    "- [Script, kommentarer och program](#script)\n",
    "- [Villkor (Selektioner)](#selects)\n",
    "- [Nästa gång](#next)\n"
   ]
  },
  {
   "cell_type": "markdown",
   "metadata": {},
   "source": [
    "<a name='last'></a>Förra passet\n",
    "---\n",
    "\n",
    "- Primitiva datatyper\n",
    "- Aritmetiska operatorer\n",
    "- Strängar\n",
    "- Variabler\n"
   ]
  },
  {
   "cell_type": "markdown",
   "metadata": {},
   "source": [
    "<a name='strings'></a>Mer om strängar\n",
    "---"
   ]
  },
  {
   "cell_type": "code",
   "execution_count": 7,
   "metadata": {
    "collapsed": false
   },
   "outputs": [
    {
     "name": "stdout",
     "output_type": "stream",
     "text": [
      "Hej då\n",
      "123 45\n",
      "Talen 11 och 12 har summan 23\n",
      "Talen11och12har summan23\n"
     ]
    }
   ],
   "source": [
    "# Konkatenera strängar\n",
    "string1 = 'Hej'\n",
    "string2 = 'då'\n",
    "\n",
    "print(string1 + ' ' + string2)\n",
    "\n",
    "# Omvandla tal till strängar\n",
    "print('123', 45)\n",
    "\n",
    "# Omvandla strängar till tal\n",
    "123 + int('45')\n",
    "\n",
    "# Strängar och print funktionen\n",
    "print('Talen', 11, 'och', 12, 'har summan', 11 + 12)\n",
    "\n",
    "print('Talen' + str(11) + 'och' + str(12) + 'har summan' + str(11 + 12))"
   ]
  },
  {
   "cell_type": "code",
   "execution_count": 9,
   "metadata": {
    "collapsed": false
   },
   "outputs": [
    {
     "name": "stdout",
     "output_type": "stream",
     "text": [
      "Hej \n",
      "på \t dig\n"
     ]
    }
   ],
   "source": [
    "# Escapesekvenser\n",
    "\n",
    "\"\"\"\n",
    "\\n\n",
    "\\t\n",
    "\\\"\n",
    "\\'\n",
    "\\\\\n",
    "\"\"\"\n",
    "\n",
    "print('Hej \\npå \\t dig')"
   ]
  },
  {
   "cell_type": "code",
   "execution_count": 13,
   "metadata": {
    "collapsed": false
   },
   "outputs": [
    {
     "name": "stdout",
     "output_type": "stream",
     "text": [
      "1/3 är i decimal form ungefär 0.333\n"
     ]
    }
   ],
   "source": [
    "# Formattering av strängar\n",
    "print(\"{0}/{1} är i decimal form ungefär {2:.3f}\".format(1, 3, 0.333333333))"
   ]
  },
  {
   "cell_type": "code",
   "execution_count": 16,
   "metadata": {
    "collapsed": false
   },
   "outputs": [
    {
     "name": "stdout",
     "output_type": "stream",
     "text": [
      "Välj ett tal: 3\n",
      "Välj ett annat tal: 5\n",
      "8\n"
     ]
    }
   ],
   "source": [
    "# Inmatningar tolkas som strängar \n",
    "tal1 = int(input(\"Välj ett tal: \"))\n",
    "tal2 = int(input(\"Välj ett annat tal: \"))\n",
    "print(tal1 + tal2)"
   ]
  },
  {
   "cell_type": "markdown",
   "metadata": {},
   "source": [
    "<a name='script'></a>Script, kommentarer och program m.m.\n",
    "---\n",
    "\n",
    "**Script**\n",
    "Ett script kan tolkas som ett litet program. Script körs ofta utan fönster. Användsa ofta till att utföra små arbeten i operativsystemet ex döpa om flera filer på en gång (batch-renamning)\n",
    "\n",
    "**Kommentarer**\n",
    "Används för att dels komma ihåg vad man själv gjort och för att förenkla för någon annan att sätta sig in i koden.\n",
    "\n",
    "`#! /usr/bin/python`\n",
    "\n",
    "(shebang)\n",
    "\n",
    "**Program**\n",
    "Python program eller script sparas i filer med filändelsen .py. Dessa filer kan sedan köras av python på lite olika sätt t.ex. i IDLE eller i ipython."
   ]
  },
  {
   "cell_type": "code",
   "execution_count": null,
   "metadata": {
    "collapsed": false
   },
   "outputs": [
    {
     "name": "stdout",
     "output_type": "stream",
     "text": [
      "Summering\n",
      "---------\n",
      "\n",
      "Välj ett tal: 3\n",
      "Välj ett annat tal: 3\n",
      "Talens summa är: 6\n"
     ]
    }
   ],
   "source": [
    "print('Summering')\n",
    "print('---------\\n')\n",
    "tal1 = int(input(\"Välj ett tal: \"))\n",
    "tal2 = int(input(\"Välj ett annat tal: \"))\n",
    "print(\"Talens summa är: \" + str(tal1 + tal2))\n",
    "input(\"\\n\\nTryck Enter för att avsluta\\n\")"
   ]
  },
  {
   "cell_type": "code",
   "execution_count": null,
   "metadata": {
    "collapsed": false
   },
   "outputs": [
    {
     "name": "stdout",
     "output_type": "stream",
     "text": [
      "Summering\n",
      "---------\n",
      "\n",
      "Välj ett tal: 1\n",
      "Välj ett annat tal: 2\n",
      "Talens summa är3\n"
     ]
    }
   ],
   "source": [
    "# %run\n",
    "# kör programmet script1.py i mappen scripts\n",
    "%run scripts/script1"
   ]
  },
  {
   "cell_type": "markdown",
   "metadata": {},
   "source": [
    "<a name='selects'></a>Villkor (Selektioner)\n",
    "---\n",
    "\n",
    "Villkors-satser (selktioner inom programmeringsvärlden) används för att göra val i ett program. För detta behövs:\n",
    "\n",
    "- en villkors-sats (if, else och elif)\n",
    "- ett villkor\n",
    "\n",
    "Villkoret testas och returnerar sedan en boolean (`True` eller `False`)\n",
    "\n",
    "**Villkors-operatorer**\n",
    "\n",
    "- `<`\n",
    "- `>`\n",
    "- `<=`\n",
    "- `>=`\n",
    "- `==`\n",
    "- `!=`\n",
    "\n",
    "**Logiska operatorer**\n",
    "\n",
    "- `and`\n",
    "- `or`\n",
    "- `not`\n",
    "\n",
    "\n",
    "**Block och satser**\n",
    "Python-tolkaren är väldigt noggrann med att tab-indrag och radavslut är korrekta för att satserna ska fungera som det är tänkt."
   ]
  },
  {
   "cell_type": "markdown",
   "metadata": {},
   "source": [
    "Exempel och övningar\n",
    "==="
   ]
  },
  {
   "cell_type": "code",
   "execution_count": 1,
   "metadata": {
    "collapsed": false
   },
   "outputs": [
    {
     "name": "stdout",
     "output_type": "stream",
     "text": [
      "True\n"
     ]
    }
   ],
   "source": [
    "# if-sats\n",
    "if (True): \n",
    "    print('True')\n",
    "    \n"
   ]
  },
  {
   "cell_type": "code",
   "execution_count": 5,
   "metadata": {
    "collapsed": false
   },
   "outputs": [
    {
     "name": "stdout",
     "output_type": "stream",
     "text": [
      "Udda eller jämnt\n",
      "Skriv in ett tal: 3\n",
      "Talet är udda\n"
     ]
    }
   ],
   "source": [
    "print(\"Udda eller jämnt\")\n",
    "tal = int(input(\"Skriv in ett tal: \"))\n",
    "if(tal % 2 == 0):\n",
    "    print(\"Talet är jämnt\")\n",
    "else:\n",
    "    print(\"Talet är udda\")"
   ]
  },
  {
   "cell_type": "code",
   "execution_count": 7,
   "metadata": {
    "collapsed": false
   },
   "outputs": [
    {
     "name": "stdout",
     "output_type": "stream",
     "text": [
      "Udda eller jämnt\n",
      "Skriv in ett tal: 12\n",
      "Talet är jämnt\n",
      "Talet är större än 10\n"
     ]
    }
   ],
   "source": [
    "# Talet skall vara större än 10 och jämnt\n",
    "print(\"Udda eller jämnt\")\n",
    "tal = int(input(\"Skriv in ett tal: \"))\n",
    "if(tal % 2 == 0):\n",
    "    print(\"Talet är jämnt\")\n",
    "    if(tal > 10):\n",
    "        print(\"Talet är större än 10\")\n",
    "else:\n",
    "    print(\"Talet är udda\")"
   ]
  },
  {
   "cell_type": "code",
   "execution_count": 8,
   "metadata": {
    "collapsed": false
   },
   "outputs": [
    {
     "name": "stdout",
     "output_type": "stream",
     "text": [
      "Udda eller jämnt\n",
      "Skriv in ett tal: 12\n",
      "Talet är jämnt och större än 10\n"
     ]
    }
   ],
   "source": [
    "# Talet skall vara större än 10 och jämnt\n",
    "print(\"Udda eller jämnt\")\n",
    "tal = int(input(\"Skriv in ett tal: \"))\n",
    "if(tal % 2 == 0 and tal > 10):\n",
    "    print(\"Talet är jämnt och större än 10\")\n",
    "else:\n",
    "    print(\"Talet är udda\")"
   ]
  },
  {
   "cell_type": "code",
   "execution_count": 12,
   "metadata": {
    "collapsed": false
   },
   "outputs": [
    {
     "name": "stdout",
     "output_type": "stream",
     "text": [
      "Udda eller jämnt\n",
      "Skriv in ett tal: 7\n",
      "Inget av ovanstående stämde\n"
     ]
    }
   ],
   "source": [
    "# Talet skall vara större än 10 och jämnt\n",
    "# Om talet är udda skall det inte vara mindre eller lika med 9\n",
    "# elif satser\n",
    "print(\"Udda eller jämnt\")\n",
    "tal = int(input(\"Skriv in ett tal: \"))\n",
    "if(tal % 2 == 0 and tal > 10):\n",
    "    print(\"Talet är jämnt och större än 10\")\n",
    "elif (tal >= 9):\n",
    "    print(\"Talet är udda och större eller lika med 9\")\n",
    "else:\n",
    "    print(\"Inget av ovanstående stämde\")"
   ]
  },
  {
   "cell_type": "markdown",
   "metadata": {},
   "source": [
    "<a name='next'></a>Nästa pass\n",
    "---\n",
    "\n",
    "- Kap 5 loopar\n",
    "- Introduktion till pseudokod och aktivitetsdiagram"
   ]
  }
 ],
 "metadata": {
  "kernelspec": {
   "display_name": "Python 3",
   "language": "python",
   "name": "python3"
  },
  "language_info": {
   "codemirror_mode": {
    "name": "ipython",
    "version": 3
   },
   "file_extension": ".py",
   "mimetype": "text/x-python",
   "name": "python",
   "nbconvert_exporter": "python",
   "pygments_lexer": "ipython3",
   "version": "3.4.2"
  }
 },
 "nbformat": 4,
 "nbformat_minor": 0
}
