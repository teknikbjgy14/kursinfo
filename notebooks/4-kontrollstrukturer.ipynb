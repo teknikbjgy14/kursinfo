{
 "cells": [
  {
   "cell_type": "markdown",
   "metadata": {
    "slideshow": {
     "slide_type": "slide"
    }
   },
   "source": [
    "Kontrollstrukturer\n",
    "===\n",
    "\n",
    "Avsnitt i boken:\n",
    "Kap 5\n",
    "\n",
    "Moduler i CodeAcademy:\n",
    "\n",
    "Loops\n",
    "- Loops\n",
    "\n",
    "Under denna lektion skall vi titta närmare på:"
   ]
  },
  {
   "cell_type": "markdown",
   "metadata": {
    "slideshow": {
     "slide_type": "fragment"
    }
   },
   "source": [
    "Innehåll\n",
    "---\n",
    "\n",
    "- [Förra passet](#last)\n",
    "- [Loopar](#loops)\n",
    "- [Mer om strängar](#strings)\n",
    "- [Nästa pass](#nasta)"
   ]
  },
  {
   "cell_type": "markdown",
   "metadata": {
    "slideshow": {
     "slide_type": "slide"
    }
   },
   "source": [
    "<a name='last'></a>Förra passet\n",
    "---"
   ]
  },
  {
   "cell_type": "markdown",
   "metadata": {
    "slideshow": {
     "slide_type": "fragment"
    }
   },
   "source": [
    "Förra passet studerade vi:\n",
    "\n",
    "- villkors-operatorer\n",
    "- logiska operatorer (and or not)\n",
    "- if-satser\n",
    "- else-satser\n",
    "- elif-satser\n",
    "\n",
    "Obs radbrytning"
   ]
  },
  {
   "cell_type": "code",
   "execution_count": 4,
   "metadata": {
    "collapsed": false,
    "slideshow": {
     "slide_type": "subslide"
    }
   },
   "outputs": [
    {
     "name": "stdout",
     "output_type": "stream",
     "text": [
      "Vad väger brevet? (Svara i gram) 34\n",
      "Portot kostar 7 kr.\n",
      "\n",
      "\n",
      "Tryck Enter för att avsluta\n"
     ]
    },
    {
     "data": {
      "text/plain": [
       "''"
      ]
     },
     "execution_count": 4,
     "metadata": {},
     "output_type": "execute_result"
    }
   ],
   "source": [
    "# Exempel intervall-test\n",
    "\n",
    "vikt = int(input(\"Vad väger brevet? (Svara i gram) \"))\n",
    "\n",
    "if (not vikt > 0): \n",
    "    print(\"Felaktig vikt inskriven\\n\")\n",
    "elif (vikt > 0 and vikt <= 25):\n",
    "    print(\"Portot kostar 5 kr.\")\n",
    "elif (vikt > 25 and vikt <= 50):\n",
    "    print(\"Portot kostar 7 kr.\")\n",
    "elif (vikt > 50 and vikt <= 75):\n",
    "    print(\"Portot kostar 9 kr.\")\n",
    "elif (vikt > 75 and vikt <= 100):\n",
    "    print(\"Portot kostar 13 kr.\")\n",
    "elif (vikt > 100 and vikt <= 150):\n",
    "    print(\"Portot kostar 16 kr.\")\n",
    "\n",
    "input(\"\\n\\nTryck Enter för att avsluta\")"
   ]
  },
  {
   "cell_type": "markdown",
   "metadata": {
    "slideshow": {
     "slide_type": "slide"
    }
   },
   "source": [
    "<a name='instick'></a>Instick tilldelnings-operatorer\n",
    "---\n",
    "\n",
    "Instället för att skriva\n",
    "\n",
    "`a = a + 1`\n",
    "\n",
    "kan vi skriva\n",
    "\n",
    "`a += 1`\n",
    "\n",
    "Samma gäller för övriga räknesätt\n",
    "\n",
    "- `+=`\n",
    "- `-=`\n",
    "- `*=`\n",
    "- `/=`"
   ]
  },
  {
   "cell_type": "markdown",
   "metadata": {
    "slideshow": {
     "slide_type": "slide"
    }
   },
   "source": [
    "<a name='loops'></a>Loopar\n",
    "---\n",
    "\n",
    "Ofta är det så att man vill upprepa en instruktion ett visst antal gånger eller tills ett villkor är uppfyllt. En upprepning heter på programmeringsspråk en iteration eller loop. I python finns det två typer av loopar:\n",
    "\n",
    "- **while** - while lopper upprepas så länge ett villkor är sant\n",
    "- **for** - for loopen upprepas ett givet antal gånger\n",
    "\n",
    "Kommandon för loopar:\n",
    "\n",
    "- **break** - bryter en loop\n",
    "- **continue** - bryter det nuvarande varvet i loopen och hoppar till början på nästa varv\n"
   ]
  },
  {
   "cell_type": "code",
   "execution_count": 5,
   "metadata": {
    "collapsed": false,
    "slideshow": {
     "slide_type": "fragment"
    }
   },
   "outputs": [
    {
     "name": "stdout",
     "output_type": "stream",
     "text": [
      "12345678910"
     ]
    }
   ],
   "source": [
    "# Exempel en while-loop som skriver ut talen 1-10\n",
    "\n",
    "# n måste deklareras (skapas utanför while-loopen). \n",
    "# Skapas den inne i loopen skapas en ny variable för varje varv.\n",
    "n = 1\n",
    "while(n < 11):\n",
    "    print(n, end='')\n",
    "    n += 1    # kom ihåg att uppdatera villkoret"
   ]
  },
  {
   "cell_type": "code",
   "execution_count": 7,
   "metadata": {
    "collapsed": false,
    "slideshow": {
     "slide_type": "fragment"
    }
   },
   "outputs": [
    {
     "name": "stdout",
     "output_type": "stream",
     "text": [
      "Gissa talet: 5\n",
      "Fel, gissa igen!\n",
      "Gissa talet: 3\n",
      "Fel, gissa igen!\n",
      "Gissa talet: 4\n",
      "Du gissade rätt!!\n"
     ]
    }
   ],
   "source": [
    "# Ex while-loop som program-ram\n",
    "tal = int(input(\"Gissa talet: \"))\n",
    "while tal != 4:\n",
    "    print(\"Fel, gissa igen!\")\n",
    "    tal = int(input(\"Gissa talet: \"))\n",
    "\n",
    "print(\"Du gissade rätt!!\")\n"
   ]
  },
  {
   "cell_type": "code",
   "execution_count": 8,
   "metadata": {
    "collapsed": false,
    "slideshow": {
     "slide_type": "slide"
    }
   },
   "outputs": [
    {
     "name": "stdout",
     "output_type": "stream",
     "text": [
      "12345678910"
     ]
    }
   ],
   "source": [
    "# Oändliga loopar\n",
    "# Ett vilkor som alltid är sant ex (1 == 1, True (1), False != 1)\n",
    "\n",
    "i = 1\n",
    "while (i > 0):\n",
    "    print(i, end='')\n",
    "    i += 1\n",
    "    if (i > 10): break"
   ]
  },
  {
   "cell_type": "code",
   "execution_count": 5,
   "metadata": {
    "collapsed": false
   },
   "outputs": [
    {
     "name": "stdout",
     "output_type": "stream",
     "text": [
      "1, 2, 3, 4, 5, 6, 7, 8, 9, 10, \n",
      "1098765432"
     ]
    }
   ],
   "source": [
    "# Exempel\n",
    "# En for-loop som skriver ut 1 till 10\n",
    "# range funktioner börjar med det första värdet men \n",
    "# stannar på ett under det sista.\n",
    "# range kan stega både fram och bakåt med olika steg\n",
    "# syntaxen är range(start,slut,steglängd)\n",
    "for n in range(1,11):\n",
    "    print(n, end=', ')\n",
    "\n",
    "print()\n",
    "    \n",
    "for n in range(10, 1, -1):\n",
    "    print(n, end='')"
   ]
  },
  {
   "cell_type": "code",
   "execution_count": 6,
   "metadata": {
    "collapsed": false
   },
   "outputs": [
    {
     "name": "stdout",
     "output_type": "stream",
     "text": [
      "A, b, c, d, e, f, g, h, "
     ]
    }
   ],
   "source": [
    "# for loopen stegar alltid igenom någon ty av itererbar lista. Nedan stegas en sträng igenom \n",
    "# in är en funktion med lite olika användningar, nedan låter den variabeln t anta varje värde i strängen 'Abcdefgh'. Funktionen range(1,11) producerar en lista från 1, 10.\n",
    "# Steglängden kan väljas genom att använda range (1,20,3) eller range(20,1,-3)\n",
    "# Strängar kan även betraktas som listor ex\n",
    "for t in \"Abcdefgh\":\n",
    "    print(t, end=', ')"
   ]
  },
  {
   "cell_type": "code",
   "execution_count": 15,
   "metadata": {
    "collapsed": false
   },
   "outputs": [
    {
     "name": "stdout",
     "output_type": "stream",
     "text": [
      "1 a\t1 b\t1 c\t1 d\t1 e\t\n",
      "2 a\t2 b\t2 c\t2 d\t2 e\t\n",
      "3 a\t3 b\t3 c\t3 d\t3 e\t\n",
      "4 a\t4 b\t4 c\t4 d\t4 e\t\n",
      "5 a\t5 b\t5 c\t5 d\t5 e\t\n"
     ]
    }
   ],
   "source": [
    "# Nästlade loopar\n",
    "# En looop kan placeras i en annan loop\n",
    "for i in range(1,6):\n",
    "    for c in \"abcde\":\n",
    "        print(i, c, end='\\t') # Skriver ut på samma rad\n",
    "    print()"
   ]
  },
  {
   "cell_type": "markdown",
   "metadata": {},
   "source": [
    "<a name='strings'></a>Mer om strängar\n",
    "---\n",
    "\n",
    "Strängar och de operationer vi kan utföra på strängar är en central del i python. Nedan ska vi undersöka några fler utav dessa."
   ]
  },
  {
   "cell_type": "code",
   "execution_count": 8,
   "metadata": {
    "collapsed": false
   },
   "outputs": [
    {
     "name": "stdout",
     "output_type": "stream",
     "text": [
      "a\n"
     ]
    }
   ],
   "source": [
    "# Trippelcitationstecken kan användas för att kommentera bort kod.\n",
    "\"\"\"En massa rader med kod men det händer absolut\n",
    "ingeting när man kör det här stycket. För att det ska \n",
    "hända något måste allt vara inneslutet i en print sats.\"\"\"\n",
    "\n",
    "name = 'Kalle'\n",
    "# name sträng-variabel\n",
    "# K är en strängkonstant eller literal\n",
    "\n",
    "# Strängar kan sägas bestå av en lista av bokstäver där platserna\n",
    "# är numrerade från 0 och uppåt. \n",
    "# I programmering börjar alltid alla index på 0.\n",
    "# Exempel\n",
    "# K   a   l   l   e\n",
    "# 0   1   2   3   4\n",
    "# En bokstav kan kommas åt mha sitt index. Ex\n",
    "print(name[1])\n"
   ]
  },
  {
   "cell_type": "code",
   "execution_count": 11,
   "metadata": {
    "collapsed": false
   },
   "outputs": [
    {
     "name": "stdout",
     "output_type": "stream",
     "text": [
      "a finns\n"
     ]
    }
   ],
   "source": [
    "# Förekomst av en sträng i en annan sträng\n",
    "if 'a' in name:\n",
    "    print(\"a finns\")"
   ]
  },
  {
   "cell_type": "code",
   "execution_count": 12,
   "metadata": {
    "collapsed": false
   },
   "outputs": [
    {
     "name": "stdout",
     "output_type": "stream",
     "text": [
      "10\n",
      "Kalle Anka\n",
      "Kalle Anka\n",
      "Kalle Anka"
     ]
    }
   ],
   "source": [
    "# Tomma strängar\n",
    "s = ''\n",
    "\n",
    "# Längden av en sträng. Mellanslag räknas som ett tecken\n",
    "str = \"Kalle Anka\"\n",
    "print( len(str) )\n",
    "\n",
    "# Att loopa igenom en sträng kan göras på tre olika sätt (minst):\n",
    "i = 0\n",
    "while(i < len(str)):\n",
    "    print(str[i], end='')\n",
    "    i += 1\n",
    "\n",
    "print() # tom rad\n",
    "    \n",
    "for t in str:\n",
    "    print(t, end='')\n",
    "\n",
    "print()\n",
    "\n",
    "for i in range(len(str)):\n",
    "    print(str[i], end='')"
   ]
  },
  {
   "cell_type": "code",
   "execution_count": 1,
   "metadata": {
    "collapsed": false
   },
   "outputs": [
    {
     "name": "stdout",
     "output_type": "stream",
     "text": [
      "Anka\n",
      "aknA ellaK\n"
     ]
    }
   ],
   "source": [
    "# En del av en sträng (slice)\n",
    "# [startindex:slutindex: steglängd] utelämnas någon antas det \n",
    "# vara början repsktive slutet på strängen och steglängden 1. \n",
    "name = \"Kalle Anka\"\n",
    "print(name[6:10])\n",
    "#Man kan gå baklänges också\n",
    "print(name[::-1])"
   ]
  },
  {
   "cell_type": "code",
   "execution_count": 25,
   "metadata": {
    "collapsed": false
   },
   "outputs": [
    {
     "name": "stdout",
     "output_type": "stream",
     "text": [
      "A\n",
      "65\n",
      "68\n",
      "D\n",
      "!\n"
     ]
    },
    {
     "ename": "NameError",
     "evalue": "name 'aa' is not defined",
     "output_type": "error",
     "traceback": [
      "\u001b[1;31m---------------------------------------------------------------------------\u001b[0m\n\u001b[1;31mNameError\u001b[0m                                 Traceback (most recent call last)",
      "\u001b[1;32m<ipython-input-25-6084160d4f51>\u001b[0m in \u001b[0;36m<module>\u001b[1;34m()\u001b[0m\n\u001b[0;32m     19\u001b[0m \u001b[0mprint\u001b[0m\u001b[1;33m(\u001b[0m\u001b[0mchr\u001b[0m\u001b[1;33m(\u001b[0m\u001b[1;36m33\u001b[0m\u001b[1;33m)\u001b[0m\u001b[1;33m)\u001b[0m\u001b[1;33m\u001b[0m\u001b[0m\n\u001b[0;32m     20\u001b[0m \u001b[1;33m\u001b[0m\u001b[0m\n\u001b[1;32m---> 21\u001b[1;33m \u001b[0mprint\u001b[0m\u001b[1;33m(\u001b[0m\u001b[0mord\u001b[0m\u001b[1;33m(\u001b[0m\u001b[0maa\u001b[0m\u001b[1;33m)\u001b[0m\u001b[1;33m)\u001b[0m\u001b[1;33m\u001b[0m\u001b[0m\n\u001b[0m\u001b[0;32m     22\u001b[0m \u001b[0mprint\u001b[0m\u001b[1;33m(\u001b[0m\u001b[0mord\u001b[0m\u001b[1;33m(\u001b[0m\u001b[0mä\u001b[0m\u001b[1;33m)\u001b[0m\u001b[1;33m)\u001b[0m\u001b[1;33m\u001b[0m\u001b[0m\n\u001b[0;32m     23\u001b[0m \u001b[0mprint\u001b[0m\u001b[1;33m(\u001b[0m\u001b[0mord\u001b[0m\u001b[1;33m(\u001b[0m\u001b[0mö\u001b[0m\u001b[1;33m)\u001b[0m\u001b[1;33m)\u001b[0m\u001b[1;33m\u001b[0m\u001b[0m\n",
      "\u001b[1;31mNameError\u001b[0m: name 'aa' is not defined"
     ]
    }
   ],
   "source": [
    "# Tal och strängar\n",
    "# Det är skillnad på talet 5 och strängen '5'. Det kan dock omvandlas till sträng \n",
    "# respektive heltal genom nedanstående operationer.\n",
    "tal = 124\n",
    "str = '124'\n",
    "\n",
    "# tal = int(str)\n",
    "# str = str(tal)\n",
    "# print(str, tal)\n",
    "# print(str + tal)\n",
    "\n",
    "# Enstaka tecken\n",
    "# Varje tecken har en teckenkod\n",
    "char = 'A'\n",
    "print(char)\n",
    "\n",
    "char_kod = ord(char)\n",
    "print(char_kod)\n",
    "print(char_kod + 3)\n",
    "print(chr(char_kod + 3))\n",
    "print(chr(33))\n",
    "\n",
    "\n",
    "print(ord(ae))\n",
    "print(ord(oo))"
   ]
  },
  {
   "cell_type": "code",
   "execution_count": 21,
   "metadata": {
    "collapsed": false
   },
   "outputs": [
    {
     "name": "stdout",
     "output_type": "stream",
     "text": [
      "kalle anka\n",
      "Kalle anka\n",
      "Kalle Anka\n"
     ]
    }
   ],
   "source": [
    "# Lite mer om strängar\n",
    "name = \"Kalle Anka\"\n",
    "name = name.lower()\n",
    "print(name)\n",
    "\n",
    "print(name.capitalize())\n",
    "print(name.title())"
   ]
  },
  {
   "cell_type": "markdown",
   "metadata": {},
   "source": [
    "Strängoperatorer:\n",
    "\n",
    "- +\n",
    "- *\n",
    "- in\n",
    "\n",
    "Strängfunktioner:\n",
    "\n",
    "- len(s)\n",
    "- str(uttryck)\n",
    "- int(s)\n",
    "- float(s)\n",
    "- ord(lateral)\n",
    "- chr(kod)\n",
    "\n",
    "Strängmetoder:\n",
    "\n",
    "- .center()\n",
    "- .count()\n",
    "- .rjust()\n",
    "- .ljust()\n",
    "- .lower()\n",
    "- .captailize()\n",
    "- .title()\n",
    "- .strip()\n",
    "- .replace()"
   ]
  },
  {
   "cell_type": "markdown",
   "metadata": {},
   "source": [
    "<a name='nasta'></a>Nästa pass\n",
    "---\n",
    "\n",
    "Nästa pass tittar vi närmare på:\n",
    "\n",
    "- Pseudokod\n",
    "- Aktivitetsdiagram\n",
    "- Fortsätter med strängar\n",
    "- Kort om slumptal\n",
    "- Provet och inlämningsuppgifterna"
   ]
  },
  {
   "cell_type": "code",
   "execution_count": null,
   "metadata": {
    "collapsed": false
   },
   "outputs": [],
   "source": []
  }
 ],
 "metadata": {
  "kernelspec": {
   "display_name": "Python 3",
   "language": "python",
   "name": "python3"
  },
  "language_info": {
   "codemirror_mode": {
    "name": "ipython",
    "version": 3
   },
   "file_extension": ".py",
   "mimetype": "text/x-python",
   "name": "python",
   "nbconvert_exporter": "python",
   "pygments_lexer": "ipython3",
   "version": "3.4.2"
  }
 },
 "nbformat": 4,
 "nbformat_minor": 0
}
