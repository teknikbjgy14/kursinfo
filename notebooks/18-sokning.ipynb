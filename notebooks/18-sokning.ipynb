{
 "cells": [
  {
   "cell_type": "markdown",
   "metadata": {},
   "source": [
    "Sökning\n",
    "==="
   ]
  },
  {
   "cell_type": "markdown",
   "metadata": {},
   "source": [
    "Tidigare\n",
    "---\n",
    "\n",
    "**GUI**"
   ]
  },
  {
   "cell_type": "code",
   "execution_count": 5,
   "metadata": {
    "collapsed": false
   },
   "outputs": [
    {
     "name": "stdout",
     "output_type": "stream",
     "text": [
      "16\n"
     ]
    }
   ],
   "source": [
    "def counting_down(n):\n",
    "    if(n == 1): #Basfallet\n",
    "        return 1\n",
    "    else:\n",
    "        print(n)\n",
    "        return counting_down(n-1)\n",
    "\n",
    "def powers(bas,exp):\n",
    "    if(exp == 1):\n",
    "        return bas\n",
    "    else:\n",
    "        return bas * powers(bas, exp - 1)\n",
    "print(powers(2,4))"
   ]
  },
  {
   "cell_type": "markdown",
   "metadata": {},
   "source": [
    "Komplexitet\n",
    "---\n",
    "\n",
    "Ett sätt att beskriva hur effektivt/snabbt ett dataprogram är att använda ordo-notation:\n",
    "\n",
    "O(n) där n är antalet data som skickas in i programmet\n",
    "\n",
    "Ex\n",
    "\n",
    "- O(n) \t =>\tantalet beräkningar ökar proportionellt med antalet inskickade\tdata ( ok )\n",
    "- O(n^2)   => \tantalet beräkningar ökar kvadratiskt med antalet inskickade\tdata ( mindre bra )\n",
    "- O(n^3) \t =>\tantalet beräkningar ökar kubiskt med antalet inskickade data   \t\t\t\t( dåligt )\n",
    "- O(log n) => \tantalet beräkningar ökar logaritmiskt med antalet inskickade\t\tdata ( mycket bra )\n"
   ]
  },
  {
   "cell_type": "code",
   "execution_count": null,
   "metadata": {
    "collapsed": false
   },
   "outputs": [],
   "source": []
  },
  {
   "cell_type": "markdown",
   "metadata": {},
   "source": [
    "Sökning\n",
    "---\n",
    "\n",
    "Kap 15\n",
    "\n",
    "Datorer hanterar ofta stora mängder med information därför är det viktigt att kunna söka igenom datan på ett effektiv sätt. Vi antar i fortsättningen att informatione vi vill söka igenom finns i en lista. Då finns det två typer av fall vi behöver beakta:\n",
    "\n",
    "- Osorterad lisa\n",
    "- Sorterad lista\n",
    "\n",
    "Linear sökning\n",
    "---\n",
    "\n",
    "Är listan osorterad finns bara en möjlighet nämligen att söka igenom listan från början till slut, element för element. Detta kallas för **linjär sökning**. Tidskomplexiteten för lineär sökning är i medel O(n/2).\n",
    "\n",
    "Binärsökning\n",
    "---\n",
    "\n",
    "Är listan sorterad kan vi använda mer sofistikerade metoder. I denna kurs använder vi oss bara av en variant som benämmns **binär sökning**. Binär sökning utnyttjar sig av intervallhalvering. Den går till på följande sätt först delas listan in i två delar, sedan jämförs mittvärdet med de sökta värdet. Är värdet mindre sätts det vänstra intervallet till det nya sökområdet annars det hägra. Operationen upprepas och intervallet halveras tills programmet kommit till mitten eller hittat det sökta värdet.\n",
    "\n",
    "Dessa metoder finns redan implementerade i python (effektivare än de metoder vi studerar nu) men det är bra för förståelsen att reda ut hur dessa fungerar (för det finns fallgropar)."
   ]
  },
  {
   "cell_type": "code",
   "execution_count": null,
   "metadata": {
    "collapsed": false
   },
   "outputs": [],
   "source": []
  },
  {
   "cell_type": "code",
   "execution_count": 18,
   "metadata": {
    "collapsed": false
   },
   "outputs": [
    {
     "name": "stdout",
     "output_type": "stream",
     "text": [
      "[24, 28, 32, 35, 20, 49, 28, 13, 24, 20, 5, 0, 24, 18, 42, 25, 34, 1, 26, 18, 5, 41, 6, 18, 50, 21, 22, 42, 34, 44]\n",
      "2\n"
     ]
    }
   ],
   "source": [
    "#Linjär sökning\n",
    "# Komplexiteten i medel är O(n), i medel O(n/2)\n",
    "# en sökfunktion returnerar vanligtvis indexet elementet hittades på. Om elementet inte finns returneras -1\n",
    "import random\n",
    "lista = []\n",
    "\n",
    "for n in range(30):\n",
    "    lista.append(random.randint(0,50))\n",
    "    \n",
    "print(lista)\n",
    "\n",
    "def linear(lista, m):\n",
    "    for n in range(len(lista)):\n",
    "        if(lista[n] == m):\n",
    "            return n\n",
    "    return -1\n",
    "\n",
    "print(linear(lista, 32))"
   ]
  },
  {
   "cell_type": "code",
   "execution_count": 4,
   "metadata": {
    "collapsed": false
   },
   "outputs": [
    {
     "name": "stdout",
     "output_type": "stream",
     "text": [
      "[3, 4, 5, 9, 10, 12, 12, 13, 14, 18, 18, 21, 24, 27, 28, 30, 32, 38, 38, 39, 41, 43, 45, 46, 48, 59, 60, 60, 61, 62, 64, 64, 67, 68, 71, 71, 74, 74, 78, 78, 80, 80, 83, 85, 86, 94, 96, 96, 96, 98]\n",
      "-1\n"
     ]
    }
   ],
   "source": [
    "#Binär sökning\n",
    "#komplexiteten är O(log n), en dubbelt så stor lista \n",
    "# kräver endast en jämförelse till.\n",
    "def binary_search(listig, m):\n",
    "    imin = 0\n",
    "    imax = len(listig) - 1\n",
    "    while (True):\n",
    "        if (imax < imin):\n",
    "            return -1\n",
    "        mid = (imin + imax) // 2\n",
    "        if (m > listig[mid]):\n",
    "            imin = mid + 1\n",
    "        elif (m < listig[mid]):\n",
    "            imax = mid - 1\n",
    "        elif(m == listig[mid]):\n",
    "            return mid\n",
    "\n",
    "import random\n",
    "lista = []\n",
    "for n in range(50):\n",
    "    lista.append(random.randint(0,100))\n",
    "\n",
    "#sorterad lista\n",
    "lista.sort()\n",
    "print(lista)\n",
    "print(binary_search(lista, 20))"
   ]
  },
  {
   "cell_type": "markdown",
   "metadata": {},
   "source": []
  },
  {
   "cell_type": "code",
   "execution_count": null,
   "metadata": {
    "collapsed": false
   },
   "outputs": [],
   "source": [
    "import bisect\n",
    "import random\n",
    "lista = []\n",
    "for n in range(50):\n",
    "    lista.append(random.randint(0,100))\n",
    "    \n",
    "bisect.bisect"
   ]
  },
  {
   "cell_type": "code",
   "execution_count": 9,
   "metadata": {
    "collapsed": false
   },
   "outputs": [
    {
     "name": "stdout",
     "output_type": "stream",
     "text": [
      "[1, 5, 7, 9, 12, 18, 35]\n"
     ]
    }
   ],
   "source": [
    "import bisect\n",
    "\n",
    "#help(bisect)\n",
    "\n",
    "my_list = [1, 5, 9, 12, 18, 35]\n",
    "\n",
    "bisect.bisect(my_list, 7)\n",
    "bisect.insort(my_list,7)\n",
    "print(my_list)"
   ]
  }
 ],
 "metadata": {
  "kernelspec": {
   "display_name": "Python 3",
   "language": "python",
   "name": "python3"
  },
  "language_info": {
   "codemirror_mode": {
    "name": "ipython",
    "version": 3
   },
   "file_extension": ".py",
   "mimetype": "text/x-python",
   "name": "python",
   "nbconvert_exporter": "python",
   "pygments_lexer": "ipython3",
   "version": "3.4.2"
  }
 },
 "nbformat": 4,
 "nbformat_minor": 0
}
