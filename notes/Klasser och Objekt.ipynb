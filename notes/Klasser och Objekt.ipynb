{
 "cells": [
  {
   "cell_type": "markdown",
   "metadata": {},
   "source": [
    "Klasser och Objekt\n",
    "===\n",
    "\n",
    "Klass\n",
    "---\n",
    "\n",
    "Klass är en datastruktur som innehåller metoder och attribut. Beskriver ofta något reellt.\n",
    "\n",
    "Objekt\n",
    "---\n",
    "\n",
    "Ett objekt är en instans av en klass som kapslar in värden.\n",
    "\n",
    "self är en referens till det aktuella objektet\n",
    "\n",
    "konstruktorn är den metod som skapar en instans av en klass\n",
    "\n",
    "- funktion -- definieradd utanför en klass. Är inte kopplad till en klass (def namn(...):)\n",
    "- metod -- definierad innanför en klass och är alltid kopplad till ett objekt (def namn(self, ...):)\n",
    "\n",
    "- parameter -- in-variabeln till en funktion/metod\n",
    "- argument -- värdet på invariabeln\n",
    "\n",
    "- instans/instansiera\n",
    "\n",
    "- doc-string -- är en dokumentation av klassen/funktionen/metoden\n",
    "\n",
    "- set/get-metoderna\n",
    "\n",
    "- public -- egenskaper som har allmän åtkomst\n",
    "- private -- egenskaper som endast koms åt inom objektet\n",
    "\n",
    "- mutable -- objektet går att ändra efter instansieringen\n",
    "- immutable -- objektet går INTE att ändra efter instansieringen"
   ]
  },
  {
   "cell_type": "code",
   "execution_count": 28,
   "metadata": {
    "collapsed": false
   },
   "outputs": [
    {
     "name": "stdout",
     "output_type": "stream",
     "text": [
      "3/4\n"
     ]
    }
   ],
   "source": [
    "#Example\n",
    "\n",
    "class Rationals:\n",
    "    \"\"\"En klass som beskriver rationella tal\"\"\"\n",
    "    \n",
    "    #konstruktor\n",
    "    def __init__(self, nom, den):\n",
    "        \"\"\"Konstruktorn till klassen, har täljare och nämnare som parametrar\"\"\"\n",
    "        #attribut - egenskaper hos objektet\n",
    "        self.sett(nom, den)\n",
    "        \n",
    "    def __str__(slef):\n",
    "        \"\"\"Skriver ut information om objektet\"\"\"\n",
    "        return str(slef._nom) + \"/\" + str(slef._den)\n",
    "    \n",
    "    def get(self):\n",
    "        \"\"\"Hämtar värdet på täljare och nämnare\"\"\"\n",
    "        return self._nom, self._den\n",
    "    \n",
    "    def sett(self, nom, den):\n",
    "        \"\"\"Sätter värden på täljare och nämnare\"\"\"\n",
    "        if(type(den) is not(int) or den < 1):\n",
    "            raise ValueError\n",
    "        if(type(den) is not(int) or den < 0):\n",
    "            raise ValueError\n",
    "        self._nom = nom\n",
    "        self._den = den\n",
    "    \n",
    "rat = Rationals(3,4)\n",
    "print(rat)"
   ]
  },
  {
   "cell_type": "code",
   "execution_count": 25,
   "metadata": {
    "collapsed": false
   },
   "outputs": [
    {
     "name": "stdout",
     "output_type": "stream",
     "text": [
      "True\n",
      "True\n",
      "[3, 4, 5]\n",
      "Hello World\n"
     ]
    }
   ],
   "source": [
    "a = [\"hello\", 1]\n",
    "b = [\"hello\", 1]\n",
    "b = a\n",
    "print(a == b)\n",
    "print(a is b)\n",
    "\n",
    "#mutable\n",
    "lista = [3, 4]\n",
    "lista.append(5)\n",
    "print(lista)\n",
    "\n",
    "#immutable\n",
    "tuppel = (3,4)\n",
    "\n",
    "strang = \"Hello\"\n",
    "strang += \" World\"\n",
    "print(strang)"
   ]
  }
 ],
 "metadata": {
  "kernelspec": {
   "display_name": "Python [Root]",
   "language": "python",
   "name": "Python [Root]"
  },
  "language_info": {
   "codemirror_mode": {
    "name": "ipython",
    "version": 3
   },
   "file_extension": ".py",
   "mimetype": "text/x-python",
   "name": "python",
   "nbconvert_exporter": "python",
   "pygments_lexer": "ipython3",
   "version": "3.5.2"
  }
 },
 "nbformat": 4,
 "nbformat_minor": 0
}
